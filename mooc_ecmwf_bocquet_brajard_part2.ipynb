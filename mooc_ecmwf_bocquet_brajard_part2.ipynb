{
 "cells": [
  {
   "cell_type": "code",
   "execution_count": null,
   "id": "a53802f5-6ba5-45ee-8404-efd7065a4133",
   "metadata": {
    "colab": {
     "base_uri": "https://localhost:8080/",
     "height": 17,
     "resources": {
      "http://localhost:8080/custom.css": {
       "data": "CjwhRE9DVFlQRSBodG1sPgo8aHRtbCBsYW5nPWVuPgogIDxtZXRhIGNoYXJzZXQ9dXRmLTg+CiAgPG1ldGEgbmFtZT12aWV3cG9ydCBjb250ZW50PSJpbml0aWFsLXNjYWxlPTEsIG1pbmltdW0tc2NhbGU9MSwgd2lkdGg9ZGV2aWNlLXdpZHRoIj4KICA8dGl0bGU+RXJyb3IgNDA0IChOb3QgRm91bmQpISExPC90aXRsZT4KICA8c3R5bGU+CiAgICAqe21hcmdpbjowO3BhZGRpbmc6MH1odG1sLGNvZGV7Zm9udDoxNXB4LzIycHggYXJpYWwsc2Fucy1zZXJpZn1odG1se2JhY2tncm91bmQ6I2ZmZjtjb2xvcjojMjIyO3BhZGRpbmc6MTVweH1ib2R5e21hcmdpbjo3JSBhdXRvIDA7bWF4LXdpZHRoOjM5MHB4O21pbi1oZWlnaHQ6MTgwcHg7cGFkZGluZzozMHB4IDAgMTVweH0qID4gYm9keXtiYWNrZ3JvdW5kOnVybCgvL3d3dy5nb29nbGUuY29tL2ltYWdlcy9lcnJvcnMvcm9ib3QucG5nKSAxMDAlIDVweCBuby1yZXBlYXQ7cGFkZGluZy1yaWdodDoyMDVweH1we21hcmdpbjoxMXB4IDAgMjJweDtvdmVyZmxvdzpoaWRkZW59aW5ze2NvbG9yOiM3Nzc7dGV4dC1kZWNvcmF0aW9uOm5vbmV9YSBpbWd7Ym9yZGVyOjB9QG1lZGlhIHNjcmVlbiBhbmQgKG1heC13aWR0aDo3NzJweCl7Ym9keXtiYWNrZ3JvdW5kOm5vbmU7bWFyZ2luLXRvcDowO21heC13aWR0aDpub25lO3BhZGRpbmctcmlnaHQ6MH19I2xvZ297YmFja2dyb3VuZDp1cmwoLy93d3cuZ29vZ2xlLmNvbS9pbWFnZXMvbG9nb3MvZXJyb3JwYWdlL2Vycm9yX2xvZ28tMTUweDU0LnBuZykgbm8tcmVwZWF0O21hcmdpbi1sZWZ0Oi01cHh9QG1lZGlhIG9ubHkgc2NyZWVuIGFuZCAobWluLXJlc29sdXRpb246MTkyZHBpKXsjbG9nb3tiYWNrZ3JvdW5kOnVybCgvL3d3dy5nb29nbGUuY29tL2ltYWdlcy9sb2dvcy9lcnJvcnBhZ2UvZXJyb3JfbG9nby0xNTB4NTQtMngucG5nKSBuby1yZXBlYXQgMCUgMCUvMTAwJSAxMDAlOy1tb3otYm9yZGVyLWltYWdlOnVybCgvL3d3dy5nb29nbGUuY29tL2ltYWdlcy9sb2dvcy9lcnJvcnBhZ2UvZXJyb3JfbG9nby0xNTB4NTQtMngucG5nKSAwfX1AbWVkaWEgb25seSBzY3JlZW4gYW5kICgtd2Via2l0LW1pbi1kZXZpY2UtcGl4ZWwtcmF0aW86Mil7I2xvZ297YmFja2dyb3VuZDp1cmwoLy93d3cuZ29vZ2xlLmNvbS9pbWFnZXMvbG9nb3MvZXJyb3JwYWdlL2Vycm9yX2xvZ28tMTUweDU0LTJ4LnBuZykgbm8tcmVwZWF0Oy13ZWJraXQtYmFja2dyb3VuZC1zaXplOjEwMCUgMTAwJX19I2xvZ297ZGlzcGxheTppbmxpbmUtYmxvY2s7aGVpZ2h0OjU0cHg7d2lkdGg6MTUwcHh9CiAgPC9zdHlsZT4KICA8YSBocmVmPS8vd3d3Lmdvb2dsZS5jb20vPjxzcGFuIGlkPWxvZ28gYXJpYS1sYWJlbD1Hb29nbGU+PC9zcGFuPjwvYT4KICA8cD48Yj40MDQuPC9iPiA8aW5zPlRoYXTigJlzIGFuIGVycm9yLjwvaW5zPgogIDxwPiAgPGlucz5UaGF04oCZcyBhbGwgd2Uga25vdy48L2lucz4K",
       "headers": [
        [
         "content-length",
         "1449"
        ],
        [
         "content-type",
         "text/html; charset=utf-8"
        ]
       ],
       "ok": false,
       "status": 404,
       "status_text": ""
      }
     }
    },
    "id": "a53802f5-6ba5-45ee-8404-efd7065a4133",
    "outputId": "e11e2926-fde4-4a19-bc6e-9e28b95678f3"
   },
   "outputs": [],
   "source": [
    "%%HTML\n",
    "<link rel=\"stylesheet\" href=\"custom.css\">"
   ]
  },
  {
   "cell_type": "markdown",
   "id": "0gdhCwxKgz59",
   "metadata": {
    "id": "0gdhCwxKgz59"
   },
   "source": [
    "## <span style=\"color:blue\"> Before you start, if you run on colab </span>...\n",
    "On colab, each notebook runs on its own environment, so you first need to run the following cell in order to download all the repository and to run the notebook part1.\n",
    "\n",
    "**Advice:** If it is not done, don't forget to change the Runtime type into \"GPU\" so to speed up the computations.\n",
    "\n",
    "**Warning:** The cell below re-run the notebook part 1, it can take a couple of minutes.\n"
   ]
  },
  {
   "cell_type": "code",
   "execution_count": null,
   "id": "BI6pdXhCg0Ye",
   "metadata": {
    "colab": {
     "base_uri": "https://localhost:8080/",
     "height": 1000,
     "referenced_widgets": [
      "85a3c4eb85ed4672a8ee46a037372300",
      "4a2e89f1f6bf4eedbca0ad25d5a04de0",
      "63ab33992e6747789c6aa30d7fd3ca7b",
      "ddb4dc44dafc4f7ab81ee0be4bd36d29",
      "12762e6f19e44be9b4824d54b97acd15",
      "2403d9c27b92416595809f8851b7e786",
      "69b622f0565f42e8a16844d3d6fef28b",
      "125c84f09fcb4666b79236f179d19827",
      "ec55d4f2783d4264a14534273656a4a5",
      "b0e7cc4350bf4ed3ac85b424eabab9f8",
      "3f80dd8cc17842b0b542dffa7d0b1f8b",
      "835d070e8f344cfd92b79773ba7023b5",
      "ffb331998a1d41cd8132263b449c68b9",
      "5c276d02f53b4cb88de8b336dc660cfd",
      "23ad55be58a045ea82d6aa18519d6739",
      "10bd83a61fce44e9b951d9f72cee9c1e",
      "320eba1b9795450db713503c124ef4c8",
      "35b724c3fb1f4517ae9e33f151b578e9",
      "0ca41fb9aee44015b0e1112daa393634",
      "da7f410b46fa4574adf21b5b7c1be74d",
      "21bd22f8052b49b98acbb98a922d7d52",
      "09ba5482356046c1905faafcf7f77c9d",
      "2b2a5f4feec34418a815cbaddac8c9e6",
      "19c75562bce7421e8da187e97c4b08c3",
      "e48505496f2142ecac7cc2f43105dfe2",
      "8153b322cbc9499a9444429bb39e797c",
      "0dfef0c43c87493d803b6849ecf7fa11",
      "98ccbf5dfc0e48d29b21891e60ab6c4c",
      "6fa25cae71b9497da2a408cbb2e44ccf",
      "2265c62e2c654e25a51d7bba6d6744f9",
      "6887d263554c4ce2a3e629693d29825b",
      "f966d3ecfee44e5cacdedcd292c4c6b0",
      "d6c6b760b1cc472dbd2df015c2c3efa9",
      "ea90e17d28754b61970391b99450da70",
      "9de6ad16dac748058be999dde9ffd367",
      "979bb47d6beb4f3ba39930094adabb8e",
      "f0c6e5f86cd4441e8c299e4bd01515fc",
      "9315aadffe264b1a89bddc22ed186249",
      "ab611e839b6e45c985e821d7af6d17fb",
      "89b15c11862e4bfda72fcff7ea1e92d1",
      "cf8df982c4134fe39681a3d9906fadc8",
      "3acf1cac85e9490483a4ef865289b917",
      "ada68873de254113a3534c1154e0347b",
      "d6dc2ba5f0a14b248c56e3fe88e94c3c",
      "5e313cac6dd94aac9ec6e55789cc5136",
      "9fb61e3b0e6949aea6f4a6b7154f4ce0",
      "95a89ac1b6924365b4bccff08a482f49",
      "f8cab4150ab040aeb033f64745faad74",
      "46df280ab0e1494aada1d25fd0c6cd93",
      "a4df1248688a4522b24d39639de0c3dd",
      "d25593e56677436da0eb4d72a3c18f4e",
      "db781734b9984ade9318d80c0a70eb5d",
      "608345d3c72442538d04f01665b690e9",
      "675634702dbb4e31ba310b6cfb154ab6",
      "c0e73a04cfd24537921109d7d648dbf5"
     ],
     "resources": {
      "http://localhost:8080/custom.css": {
       "data": "CjwhRE9DVFlQRSBodG1sPgo8aHRtbCBsYW5nPWVuPgogIDxtZXRhIGNoYXJzZXQ9dXRmLTg+CiAgPG1ldGEgbmFtZT12aWV3cG9ydCBjb250ZW50PSJpbml0aWFsLXNjYWxlPTEsIG1pbmltdW0tc2NhbGU9MSwgd2lkdGg9ZGV2aWNlLXdpZHRoIj4KICA8dGl0bGU+RXJyb3IgNDA0IChOb3QgRm91bmQpISExPC90aXRsZT4KICA8c3R5bGU+CiAgICAqe21hcmdpbjowO3BhZGRpbmc6MH1odG1sLGNvZGV7Zm9udDoxNXB4LzIycHggYXJpYWwsc2Fucy1zZXJpZn1odG1se2JhY2tncm91bmQ6I2ZmZjtjb2xvcjojMjIyO3BhZGRpbmc6MTVweH1ib2R5e21hcmdpbjo3JSBhdXRvIDA7bWF4LXdpZHRoOjM5MHB4O21pbi1oZWlnaHQ6MTgwcHg7cGFkZGluZzozMHB4IDAgMTVweH0qID4gYm9keXtiYWNrZ3JvdW5kOnVybCgvL3d3dy5nb29nbGUuY29tL2ltYWdlcy9lcnJvcnMvcm9ib3QucG5nKSAxMDAlIDVweCBuby1yZXBlYXQ7cGFkZGluZy1yaWdodDoyMDVweH1we21hcmdpbjoxMXB4IDAgMjJweDtvdmVyZmxvdzpoaWRkZW59aW5ze2NvbG9yOiM3Nzc7dGV4dC1kZWNvcmF0aW9uOm5vbmV9YSBpbWd7Ym9yZGVyOjB9QG1lZGlhIHNjcmVlbiBhbmQgKG1heC13aWR0aDo3NzJweCl7Ym9keXtiYWNrZ3JvdW5kOm5vbmU7bWFyZ2luLXRvcDowO21heC13aWR0aDpub25lO3BhZGRpbmctcmlnaHQ6MH19I2xvZ297YmFja2dyb3VuZDp1cmwoLy93d3cuZ29vZ2xlLmNvbS9pbWFnZXMvbG9nb3MvZXJyb3JwYWdlL2Vycm9yX2xvZ28tMTUweDU0LnBuZykgbm8tcmVwZWF0O21hcmdpbi1sZWZ0Oi01cHh9QG1lZGlhIG9ubHkgc2NyZWVuIGFuZCAobWluLXJlc29sdXRpb246MTkyZHBpKXsjbG9nb3tiYWNrZ3JvdW5kOnVybCgvL3d3dy5nb29nbGUuY29tL2ltYWdlcy9sb2dvcy9lcnJvcnBhZ2UvZXJyb3JfbG9nby0xNTB4NTQtMngucG5nKSBuby1yZXBlYXQgMCUgMCUvMTAwJSAxMDAlOy1tb3otYm9yZGVyLWltYWdlOnVybCgvL3d3dy5nb29nbGUuY29tL2ltYWdlcy9sb2dvcy9lcnJvcnBhZ2UvZXJyb3JfbG9nby0xNTB4NTQtMngucG5nKSAwfX1AbWVkaWEgb25seSBzY3JlZW4gYW5kICgtd2Via2l0LW1pbi1kZXZpY2UtcGl4ZWwtcmF0aW86Mil7I2xvZ297YmFja2dyb3VuZDp1cmwoLy93d3cuZ29vZ2xlLmNvbS9pbWFnZXMvbG9nb3MvZXJyb3JwYWdlL2Vycm9yX2xvZ28tMTUweDU0LTJ4LnBuZykgbm8tcmVwZWF0Oy13ZWJraXQtYmFja2dyb3VuZC1zaXplOjEwMCUgMTAwJX19I2xvZ297ZGlzcGxheTppbmxpbmUtYmxvY2s7aGVpZ2h0OjU0cHg7d2lkdGg6MTUwcHh9CiAgPC9zdHlsZT4KICA8YSBocmVmPS8vd3d3Lmdvb2dsZS5jb20vPjxzcGFuIGlkPWxvZ28gYXJpYS1sYWJlbD1Hb29nbGU+PC9zcGFuPjwvYT4KICA8cD48Yj40MDQuPC9iPiA8aW5zPlRoYXTigJlzIGFuIGVycm9yLjwvaW5zPgogIDxwPiAgPGlucz5UaGF04oCZcyBhbGwgd2Uga25vdy48L2lucz4K",
       "headers": [
        [
         "content-length",
         "1449"
        ],
        [
         "content-type",
         "text/html; charset=utf-8"
        ]
       ],
       "ok": false,
       "status": 404,
       "status_text": ""
      }
     }
    },
    "id": "BI6pdXhCg0Ye",
    "outputId": "362b3fd9-93ee-43f3-a936-e2e391fff94b"
   },
   "outputs": [],
   "source": [
    "# First run configuration for colab\n",
    "import sys\n",
    "IN_COLAB = 'google.colab' in sys.modules\n",
    "if IN_COLAB:\n",
    "    import os\n",
    "    print('Colab detected')\n",
    "    if os.path.isdir('2022-mooc-ecmwf-bocquet-brajard'):\n",
    "      %cd 2022-mooc-ecmwf-bocquet-brajard/\n",
    "    if not os.path.isfile('mooc_ecmwf_bocquet_brajard_part1.ipynb'):\n",
    "      \n",
    "      # Clone the git repository\n",
    "      !git clone https://github.com/marcbocquet/2022-mooc-ecmwf-bocquet-brajard.git\n",
    "\n",
    "      # Make the repository as working directory\n",
    "      %cd 2022-mooc-ecmwf-bocquet-brajard/\n",
    "\n",
    "    if not os.path.isfile('Output/xt.npy'):\n",
    "\n",
    "      # Run the notebook part 1\n",
    "      %run mooc_ecmwf_bocquet_brajard_part1.ipynb"
   ]
  },
  {
   "cell_type": "markdown",
   "id": "923d2d94",
   "metadata": {
    "id": "923d2d94"
   },
   "source": [
    "# <span style=\"color:maroon\"> Data assimilation, machine learning, and dynamical systems - Part II  </span>\n",
    "#### Marc Bocquet¹ [marc.bocquet@enpc.fr](mailto:marc.bocquet@enpc.fr) and Julien Brajard² [julien.brajard@nersc.no](mailto:julien.brajard@nersc.no)\n",
    "#### (1) CEREA, École des Ponts et EdF R&D, Île-de-France, France\n",
    "#### (2) Nansen Center (NERSC), Bergen, Norway\n",
    "\n",
    "During this session, we will discover some connections between data assimilation and deep learning when applied to dynamical systems."
   ]
  },
  {
   "cell_type": "markdown",
   "id": "225f4f08-bba5-4b5d-b0c2-10c8b4d9cda8",
   "metadata": {
    "id": "225f4f08-bba5-4b5d-b0c2-10c8b4d9cda8"
   },
   "source": [
    "# <span style=\"color:teal\"> Second step: Learn the model error through machine learning.</span>\n",
    "\n",
    "In this notebook, we will use the output of data assimilation to train a neural network into predicting the model error. The procedure is the following:\n",
    "1. The **analysis** $x^{\\rm a}_k$ is used as the best possible estimate from the truth at time step $t_k$.\n",
    "2. The physical model is used to produced a **forecast** $x^{\\rm f}_{k}$ using the analysis $x^{\\rm a}_{k-1}$ as initial conditions.\n",
    "3. For each time $t_k$, the difference between the forecast and the analysis is used to estimate the **model error** $\\mathrm{err}_k = x^{\\rm a}_k - x^{\\rm f}_k$. Note that this value is called **analysis increment** in the context of data assimilation.\n",
    "4. A **neural network** taking $x^{\\rm a}_{k-1}$ as an input is trained, supervised by the data $\\mathrm{err}_k$\n",
    "<p align = \"center\">\n",
    "<img src=\"https://github.com/marcbocquet/2022-mooc-ecmwf-bocquet-brajard/blob/colab/Figures/scheme-err.png?raw=1\" alt=\"Model error estimation\" width=\"600\"/>\n",
    "</p>\n",
    "\n",
    "## <span style=\"color:blue\"> I. Check the result of data assimilation </span>\n",
    "Before training the neural network, as it is recommended for *any* machine learning process, we have a look at the data.\n"
   ]
  },
  {
   "cell_type": "code",
   "execution_count": null,
   "id": "2a567a4f-5cfc-4dbc-b2e7-9827fc7efd99",
   "metadata": {
    "id": "2a567a4f-5cfc-4dbc-b2e7-9827fc7efd99"
   },
   "outputs": [],
   "source": [
    "# Import standard modules\n",
    "import pathlib\n",
    "import json\n",
    "import seaborn as sns\n",
    "from matplotlib import pyplot as plt\n",
    "import numpy as np\n",
    "from tqdm.notebook import trange, tqdm\n",
    "from pickle import dump\n",
    "\n",
    "\n",
    "from tensorflow.keras.layers import Input, Conv1D, BatchNormalization\n",
    "from tensorflow.keras import regularizers\n",
    "from tensorflow.keras import Model\n",
    "import tensorflow as tf\n",
    "from utils import tqdm_callback\n",
    "\n",
    "from sklearn.preprocessing import StandardScaler\n",
    "from sklearn.metrics import r2_score, mean_squared_error\n",
    "\n",
    "from Model.neuralnet import Periodic1DPadding\n",
    "\n",
    "# Load dataset lengths\n",
    "with open('./Nt.cfg', 'r') as f:\n",
    "    Nt = json.load(f)\n",
    "\n",
    "# Directory for results\n",
    "outputdir = pathlib.Path(\"./Output\")\n",
    "\n",
    "# For plot customisation\n",
    "sns.set_context('notebook')\n",
    "sns.set_style('darkgrid')\n",
    "plt.rc('axes', linewidth=1)\n",
    "plt.rc('axes', edgecolor='k')\n",
    "plt.rc('figure', dpi=100)\n",
    "palette = sns.color_palette('deep')"
   ]
  },
  {
   "cell_type": "markdown",
   "id": "3c2d5483-6222-4fcb-9a75-b6351f8d5e5c",
   "metadata": {
    "id": "3c2d5483-6222-4fcb-9a75-b6351f8d5e5c"
   },
   "source": [
    "First, we load the result of the data assimilation, the so-called **analysis**. We also load the truth to plot some diagnostics."
   ]
  },
  {
   "cell_type": "code",
   "execution_count": null,
   "id": "2d15ac0c-0fdf-43c1-bd02-973518a375ee",
   "metadata": {
    "colab": {
     "base_uri": "https://localhost:8080/"
    },
    "id": "2d15ac0c-0fdf-43c1-bd02-973518a375ee",
    "outputId": "db42e3f9-2d98-4fed-ae6d-fe49fbd3458c"
   },
   "outputs": [],
   "source": [
    "# Load the analysis:\n",
    "xa = np.load(outputdir / 'xa.npy')\n",
    "\n",
    "# Load the slice of the truth corresponding to the analysis\n",
    "xt = np.load(outputdir / 'xt.npy')[:Nt['train']]\n",
    "\n",
    "print(f'Shape (number of samples, number of features) of the truth: {xt.shape}')\n",
    "print(f'Shape (number of samples, number of features) of the analysis: {xa.shape}')"
   ]
  },
  {
   "cell_type": "markdown",
   "id": "f7e4b421-f901-477c-90de-de9bb237d0b2",
   "metadata": {
    "id": "f7e4b421-f901-477c-90de-de9bb237d0b2"
   },
   "source": [
    "Here we define the physical model so as to compute the forecast:"
   ]
  },
  {
   "cell_type": "code",
   "execution_count": null,
   "id": "84d7713e-d6a3-4e8e-a5ff-7c380034dd6b",
   "metadata": {
    "id": "84d7713e-d6a3-4e8e-a5ff-7c380034dd6b"
   },
   "outputs": [],
   "source": [
    "# Check that the parameters of L96 are the same as in the first notebook.\n",
    "from Model.lorenz96 import l96\n",
    "Nx = 40\n",
    "dt = 0.05\n",
    "F = 8\n",
    "phi = l96(Nx, dt, F)"
   ]
  },
  {
   "cell_type": "markdown",
   "id": "7d65b102-7814-4186-bc86-f598c3818515",
   "metadata": {
    "id": "7d65b102-7814-4186-bc86-f598c3818515"
   },
   "source": [
    "In the standard configuration, the best estimate we have from the system is the analysis. \n",
    "\n",
    "Here, as we know the truth, we can choose to use the true value of the L96 variable instead of the analysis.  Then, the data are **perfect**: there is no error due to the observation error, the observation sampling, and the data assimilation process. It is an ideal case, but it cannot be achieved for most realistic systems.\n",
    "\n",
    "If you want to do the test with perfect data, you just have to uncomment the line ```learning = 'truth'```. It is expected to be much easier to learn the model error as there is not additional noise.\n",
    "\n"
   ]
  },
  {
   "cell_type": "code",
   "execution_count": null,
   "id": "03950505-f3d7-4e2c-b3a6-dcf3982528a9",
   "metadata": {
    "id": "03950505-f3d7-4e2c-b3a6-dcf3982528a9"
   },
   "outputs": [],
   "source": [
    "learning = 'analysis'\n",
    "#learning = 'truth'\n",
    "if learning == 'analysis':\n",
    "    x = xa\n",
    "else:\n",
    "     x = xt #learn on the true error"
   ]
  },
  {
   "cell_type": "code",
   "execution_count": null,
   "id": "5fd3c94f-2112-4f09-99e7-d3984dfbaf6d",
   "metadata": {
    "id": "5fd3c94f-2112-4f09-99e7-d3984dfbaf6d"
   },
   "outputs": [],
   "source": [
    "# Compute the forecast of the physical model\n",
    "xf = x + phi(x)\n",
    "\n",
    "# Compute the model error\n",
    "err = x[1:] - xf[:-1]"
   ]
  },
  {
   "cell_type": "markdown",
   "id": "98480fc0-2f68-4b17-9029-5cb4efcb6d54",
   "metadata": {
    "id": "98480fc0-2f68-4b17-9029-5cb4efcb6d54"
   },
   "source": [
    "Now, we will compute and plot a diagnostic of the data assimilation. This diagnostic use the truth to evaluate the results, let's highlight that in a \"real-world\" case, the truth is not known and such diagnostics cannot be computed the same way. In such cases the truth is not known, observations can also be used, which come with additional challenges out of the scope of this module."
   ]
  },
  {
   "cell_type": "code",
   "execution_count": null,
   "id": "eefa853f-d86c-4d36-a112-84d86e673a71",
   "metadata": {
    "id": "eefa853f-d86c-4d36-a112-84d86e673a71"
   },
   "outputs": [],
   "source": [
    "# One utility function to compute scatter plots\n",
    "def scatter_plot(x,y,ax=None):\n",
    "    x, y = x.ravel(), y.ravel()\n",
    "    ax = sns.regplot(x=x, y=y, ax=ax)\n",
    "    r2 = r2_score(x, y)\n",
    "    mse = mean_squared_error(x, y, squared=False)\n",
    "    ax.set_title(f'R2={r2:.2f}, RMSE={mse:.2e}')\n",
    "    return ax"
   ]
  },
  {
   "cell_type": "markdown",
   "id": "ebf0def8-6a83-4ebb-84d7-458daf41e712",
   "metadata": {
    "id": "ebf0def8-6a83-4ebb-84d7-458daf41e712"
   },
   "source": [
    "The RMSE in time is defined as\n",
    "$$\n",
    "\\mathrm{RMSE}(k) = \\sqrt{\\frac{1}{N_x} \\sum_{n=1}^{N_x} \\left( x^{\\rm t}_n - x^{\\rm a}_n \\right)^2},\n",
    "$$\n",
    "where $k$ is the index for the time, $n$ is the space index, $x^{\\rm t}_n$ is the true value and $x^{\\rm a}_n$ is the analysis (the result of the data assimilation)."
   ]
  },
  {
   "cell_type": "code",
   "execution_count": null,
   "id": "794e9760-f6fc-49c8-ae91-8827687a9e37",
   "metadata": {
    "colab": {
     "base_uri": "https://localhost:8080/",
     "height": 413
    },
    "id": "794e9760-f6fc-49c8-ae91-8827687a9e37",
    "outputId": "22a937e7-d248-4cac-b177-64e0735a110a"
   },
   "outputs": [],
   "source": [
    "rmse_time = np.sqrt(np.mean(np.square(xt-xa),axis=1))\n",
    "plt.plot(dt*np.arange(rmse_time.shape[0]),rmse_time)\n",
    "plt.plot(dt*np.arange(rmse_time.shape[0]), rmse_time.mean()*np.ones(rmse_time.shape[0]), ':k' )\n",
    "plt.xlabel('Time');\n",
    "plt.ylabel('Analysis RMSE');\n",
    "plt.title(f'RMSE (mean) = {rmse_time.mean():.3e}');"
   ]
  },
  {
   "cell_type": "markdown",
   "id": "179b7fb3-c16d-4087-928a-a36ff6e5689f",
   "metadata": {
    "id": "179b7fb3-c16d-4087-928a-a36ff6e5689f"
   },
   "source": [
    "The dotted line is the mean of the RMSE, we should retrieve the same value as in part one of this session (around 0.2). We observe that, despite a couple of peaks, the RMSE is stable in time, which is a necessary condition. Indeed, in the following, we assume that the analysis is stationary, which means that its statistical properties do not depend on the time (for example there is no trend in the error).\n",
    "\n",
    "To have a sense of the accuracy of the analysis compared with the truth, we can also represent the analysis in the form of a scatter plot.\n"
   ]
  },
  {
   "cell_type": "code",
   "execution_count": null,
   "id": "7fc75043-6488-4b60-b028-59aa2ce4365c",
   "metadata": {
    "colab": {
     "base_uri": "https://localhost:8080/",
     "height": 413
    },
    "id": "7fc75043-6488-4b60-b028-59aa2ce4365c",
    "outputId": "2648c54b-11d4-4dc2-df53-175355e35f9f"
   },
   "outputs": [],
   "source": [
    "ax = scatter_plot (xt[:,20], xa[:,20])\n",
    "ax.set_xlabel('Truth')\n",
    "ax.set_ylabel('Analysis');\n",
    "plt.savefig('Figures/scatter_analysis')"
   ]
  },
  {
   "cell_type": "markdown",
   "id": "210e5b2f-0d47-4493-8ac6-7d279620ee2a",
   "metadata": {
    "id": "210e5b2f-0d47-4493-8ac6-7d279620ee2a"
   },
   "source": [
    "It appears clearly that the analysis is close to the true value, so the assumption that \"The analysis is the best estimate we have of the truth\" is reasonable.\n",
    "Note that the RMSE can be a bit different as it is the total RMSE for the variable 20, chosen arbitrary and not the mean RMSE in time for all the variables. "
   ]
  },
  {
   "cell_type": "markdown",
   "id": "9202b765-6f46-4ff6-b481-bff4e95b9ea5",
   "metadata": {
    "id": "9202b765-6f46-4ff6-b481-bff4e95b9ea5"
   },
   "source": [
    "## <span style=\"color:blue\"> II. Build the neural network.</span>\n",
    "It is now time to define the neural network. We are using the Keras API of TensorFlow https://www.tensorflow.org/api_docs/python/tf/keras, the approach is of course also applicable using any deep-learning framework such as Pytorch https://pytorch.org/"
   ]
  },
  {
   "cell_type": "markdown",
   "id": "198f78f7-01b9-415c-83f8-81df8e72c42e",
   "metadata": {
    "id": "198f78f7-01b9-415c-83f8-81df8e72c42e"
   },
   "source": [
    "We initialize random generators so the notebooks are fully reproducible. Several aspects are based on random processes:\n",
    "- The initialization of the weights of the neural network\n",
    "- The batch-sized chunk presented to the neural during the training are randomly shuffled at each epoch.\n"
   ]
  },
  {
   "cell_type": "code",
   "execution_count": null,
   "id": "7c9d2802-7a16-4184-85ed-1e7df1b2eca2",
   "metadata": {
    "id": "7c9d2802-7a16-4184-85ed-1e7df1b2eca2"
   },
   "outputs": [],
   "source": [
    "import random, os\n",
    "seed = 1980\n",
    "os.environ['PYTHONHASHSEED'] = str(seed)\n",
    "random.seed(seed)\n",
    "tf.random.set_seed(seed)\n",
    "np.random.seed(seed)"
   ]
  },
  {
   "cell_type": "markdown",
   "id": "18a76687-a309-40ba-9d0d-b9aac9160504",
   "metadata": {
    "id": "18a76687-a309-40ba-9d0d-b9aac9160504"
   },
   "source": [
    "We define the function that builds the neural net model as the form of a convolutional neural network. The function takes several input arguments:\n",
    "- `archi`: specify the hidden layers of the neural network as a form of a list of triplets. Each element of the list represents a hidden layer. A triplet is in the form of  `(nunits, kernelsize, activation)` where:\n",
    "    - `nunits` is the number of units (neurons) on the layer\n",
    "    - `kernelsize` is the kernel size of the convolution \n",
    "    - `activation` is the activation function\n",
    "- `Nx`: is the spatial size of the problem (in our case: $N_x=40$)\n",
    "- `reg`: is the L2 weight regularization of the output layer (default=1e-5). Can be set to zeros if you don't want to use regularization\n",
    "- `batchlayer`: Possibility to add batchnormalization before hidden layer (default is None). It is represented as a set of indexes. For example, specify `{0,2}` to have batchnormalization before the first and third hidden layers."
   ]
  },
  {
   "cell_type": "code",
   "execution_count": null,
   "id": "64045b57-030a-4e49-aa6d-012ae661b73a",
   "metadata": {
    "id": "64045b57-030a-4e49-aa6d-012ae661b73a"
   },
   "outputs": [],
   "source": [
    "def buildmodel(archi, Nx=40, reg=1e-5, batchlayer={}):\n",
    "\n",
    "    # Input Layer:\n",
    "    inputs = Input(shape=(Nx,1))\n",
    "    \n",
    "    # Pre-processing layer to account for the periodicity of the space:\n",
    "    border = int(np.sum(np.array([kern//2 for nfil,kern,activ in archi])))\n",
    "    x = Periodic1DPadding(padding_size=border)(inputs)\n",
    "    \n",
    "    # BatchNormalization layer\n",
    "    x = BatchNormalization()(x)\n",
    "    \n",
    "    # Definition of the hidden layers\n",
    "    for i, (nfil, kern, activ) in enumerate(archi):\n",
    "        if i in batchlayer:\n",
    "            x = BatchNormalization()(x)\n",
    "        x = Conv1D(nfil, kern, activation=activ)(x)\n",
    "        \n",
    "    # Ouput layer (with optional regularization)\n",
    "    output= Conv1D(1,1,activation='linear', kernel_regularizer=regularizers.l2(reg))(x)\n",
    "    return Model(inputs,output)\n"
   ]
  },
  {
   "cell_type": "code",
   "execution_count": null,
   "id": "5c3ed55e-2ca4-4bc2-934d-6c81f2d24a3e",
   "metadata": {
    "id": "5c3ed55e-2ca4-4bc2-934d-6c81f2d24a3e"
   },
   "outputs": [],
   "source": [
    "#We propose here a default neural network setting but feel free to play with the neural net characteristics\n",
    "\n",
    "archi = [(40, 7, 'tanh'),\n",
    "         (20, 5, 'tanh'),\n",
    "         (20, 1, 'tanh')\n",
    "        ]\n",
    "model = buildmodel(archi)"
   ]
  },
  {
   "cell_type": "code",
   "execution_count": null,
   "id": "7b32c90a-88d7-460a-b295-50613e1eba3c",
   "metadata": {
    "colab": {
     "base_uri": "https://localhost:8080/",
     "height": 754
    },
    "id": "7b32c90a-88d7-460a-b295-50613e1eba3c",
    "outputId": "68542fc9-78ad-4c48-fb3a-4251d7ea6a8f"
   },
   "outputs": [],
   "source": [
    "# We can plot the architecture of our model\n",
    "tf.keras.utils.plot_model(model, show_shapes=True)"
   ]
  },
  {
   "cell_type": "code",
   "execution_count": null,
   "id": "68bb83b7-c479-4bf5-877f-b7d1c70b2d7d",
   "metadata": {
    "colab": {
     "base_uri": "https://localhost:8080/"
    },
    "id": "68bb83b7-c479-4bf5-877f-b7d1c70b2d7d",
    "outputId": "3c265662-ee34-49a7-8698-6100805d9431"
   },
   "outputs": [],
   "source": [
    "# We can also have a summary of the model\n",
    "model.summary()"
   ]
  },
  {
   "cell_type": "markdown",
   "id": "d20a5c4b-1ea6-480d-9f71-02791fd07b3b",
   "metadata": {
    "id": "d20a5c4b-1ea6-480d-9f71-02791fd07b3b"
   },
   "source": [
    "## <span style=\"color:blue\"> III. Train the neural network.</span>\n",
    "In this section, the neural network defined previously is trained. The dataset is divided into two parts: the training set used to optimize the weights, and the validation set to follow the evolution of the metric and avoid overfitting.\n",
    "\n",
    "The training/validation is defined with two parameters:\n",
    "- `frac_train` (default: 0.8): Fraction of the data selected as training data, the rest is used for validation\n",
    "- `valend` (default: True): Flag to indicate if the validation is taken at the end of the analysis (if True) or at the beginning of the analysis (if False)"
   ]
  },
  {
   "cell_type": "code",
   "execution_count": null,
   "id": "781ff538-f95a-4e51-b2a5-a48e9ef24873",
   "metadata": {
    "id": "781ff538-f95a-4e51-b2a5-a48e9ef24873"
   },
   "outputs": [],
   "source": [
    "frac_train = .8\n",
    "valend = True"
   ]
  },
  {
   "cell_type": "code",
   "execution_count": null,
   "id": "d8d401b0-21ce-43f3-900b-b94e9ea92be5",
   "metadata": {
    "colab": {
     "base_uri": "https://localhost:8080/"
    },
    "id": "d8d401b0-21ce-43f3-900b-b94e9ea92be5",
    "outputId": "75ae02ff-5add-4fd6-fee3-5793b6f8343c"
   },
   "outputs": [],
   "source": [
    "# Split in train/validation\n",
    "X = x[:-1]\n",
    "y = err\n",
    "\n",
    "itrain = int(frac_train*X.shape[0])\n",
    "if valend == True:\n",
    "    Xtrain, ytrain = X[:itrain], y[:itrain]\n",
    "    Xval, yval = X[itrain:], y[itrain:]\n",
    "else:\n",
    "    Xtrain, ytrain = X[-itrain:], y[-itrain:]\n",
    "    Xval, yval = X[:-itrain], y[:-itrain]\n",
    "print(f'Total number of samples: {X.shape[0]}')\n",
    "print(f'Number of training samples: {Xtrain.shape[0]}')\n",
    "print(f'Number of validation samples: {Xval.shape[0]}')\n",
    "print(f'Number of input features: {Xval.shape[1]}')"
   ]
  },
  {
   "cell_type": "markdown",
   "id": "86d3954a-00f9-46de-8f04-7015ecd7e36c",
   "metadata": {
    "id": "86d3954a-00f9-46de-8f04-7015ecd7e36c"
   },
   "source": [
    "The data presented as an input or output are standardised to facilitate the training. Important: the scaling factors (mean and standard deviation) are computed on the training set only, and the same values will be applied for validation and testing."
   ]
  },
  {
   "cell_type": "code",
   "execution_count": null,
   "id": "c958c329-fd2f-49f7-aaea-10061fc3bdbc",
   "metadata": {
    "id": "c958c329-fd2f-49f7-aaea-10061fc3bdbc"
   },
   "outputs": [],
   "source": [
    "scaler_x = StandardScaler().fit(Xtrain)\n",
    "scaler_y = StandardScaler().fit(ytrain)\n"
   ]
  },
  {
   "cell_type": "markdown",
   "id": "738695aa-fb23-420d-b08d-3b44bae0cf01",
   "metadata": {
    "id": "738695aa-fb23-420d-b08d-3b44bae0cf01"
   },
   "source": [
    "The model is compiled as required by the keras API. The loss function optimized is the mean square error and the chosen optimiser is `Adam` (see https://www.tensorflow.org/api_docs/python/tf/keras/Model#compile for more details)"
   ]
  },
  {
   "cell_type": "code",
   "execution_count": null,
   "id": "8b2598dc-19ad-4782-92f8-de4ffb183a71",
   "metadata": {
    "id": "8b2598dc-19ad-4782-92f8-de4ffb183a71"
   },
   "outputs": [],
   "source": [
    "model.compile(loss='mse', optimizer='adam')"
   ]
  },
  {
   "cell_type": "markdown",
   "id": "c8e1b8d6-721b-4c93-ba97-8aa748b8d37b",
   "metadata": {
    "id": "c8e1b8d6-721b-4c93-ba97-8aa748b8d37b"
   },
   "source": [
    "To fit the model to the data, we specify the number of epochs. The evolution of the metrics during the training is saved in the `history` variable."
   ]
  },
  {
   "cell_type": "code",
   "execution_count": null,
   "id": "56dec98b-e95d-4b93-9744-7115da6dae7b",
   "metadata": {
    "colab": {
     "base_uri": "https://localhost:8080/",
     "height": 49,
     "referenced_widgets": [
      "747d3c6ccb794e67bfc262ce031f9fc5",
      "973fca2dd29b4e0881bace37d1eca805",
      "24eb5bf591a3440b92ef49cba0b848ff",
      "38b06265149143a09648875f5a435782",
      "cb7abe9177294838930daa210455aef3",
      "9ded00ca570047ed9d9b6f7f120982ff",
      "0c091879d3ba48edb9b762aff8c5cd92",
      "013c2ca16a9f43bbbde8c9f746837eda",
      "670eb83f4a3047f38456fd21ab792418",
      "2233d06a6bc949c1b21917875d699b85",
      "82a0a5bcffbd431cb12359259e78b76e"
     ]
    },
    "id": "56dec98b-e95d-4b93-9744-7115da6dae7b",
    "outputId": "b700975b-02a8-4d23-ab58-7ab465a0f6bc"
   },
   "outputs": [],
   "source": [
    "num_epochs = 500\n",
    "\n",
    "# We define a callback to follow the evolution of the training\n",
    "callbacks = [ tqdm_callback(num_epochs, 'NN training') ]\n",
    "\n",
    "history = model.fit(scaler_x.transform(Xtrain), scaler_y.transform(ytrain), \n",
    "                    epochs=num_epochs, \n",
    "                    batch_size=256, \n",
    "                    validation_data = (scaler_x.transform(Xval), scaler_y.transform(yval)),\n",
    "                    verbose=0, callbacks=callbacks)"
   ]
  },
  {
   "cell_type": "code",
   "execution_count": null,
   "id": "3ba0cf8e-7d88-44ee-b452-27343387a17a",
   "metadata": {
    "colab": {
     "base_uri": "https://localhost:8080/",
     "height": 367
    },
    "id": "3ba0cf8e-7d88-44ee-b452-27343387a17a",
    "outputId": "51958fb6-cdf4-456a-cffb-87fdc29d641c"
   },
   "outputs": [],
   "source": [
    "# Plot the learning curve\n",
    "plt.semilogy(history.history['loss'], color='gray', label='training loss')\n",
    "plt.semilogy(history.history['val_loss'], color='black', label='validation loss')\n",
    "plt.legend()\n",
    "plt.savefig('Figures/learning_curve')\n"
   ]
  },
  {
   "cell_type": "markdown",
   "id": "61b23dfe-23f2-4ed0-9767-f9f92b884a0f",
   "metadata": {
    "id": "61b23dfe-23f2-4ed0-9767-f9f92b884a0f"
   },
   "source": [
    "We expect both validation and training loss to decrease. If the validation stabilise or increase while the training loss continues to decrease, it means that the neural network overfits on the training set. In that case, the training can be stopped earlier by reducing the number of epochs (it is called \"Early stopping\")."
   ]
  },
  {
   "cell_type": "code",
   "execution_count": null,
   "id": "2817e9eb-9d9b-4dfa-80bc-def5f7de70c2",
   "metadata": {
    "colab": {
     "base_uri": "https://localhost:8080/"
    },
    "id": "2817e9eb-9d9b-4dfa-80bc-def5f7de70c2",
    "outputId": "88925f5d-87f0-49e9-c121-2bfdeb9e989d"
   },
   "outputs": [],
   "source": [
    "# Save the model and the standardisation coefficients\n",
    "if learning=='analysis':\n",
    "    name = 'damodel'\n",
    "else:\n",
    "    name = 'true_model'\n",
    "model.save(outputdir / f'{name}_nn')\n",
    "dump(scaler_x, open(outputdir / f'{name}_scalerx', 'wb'))\n",
    "dump(scaler_y, open(outputdir / f'{name}_scalery', 'wb'))"
   ]
  },
  {
   "cell_type": "markdown",
   "id": "973230a5-686a-4baf-9a55-1966c3a8e517",
   "metadata": {
    "id": "973230a5-686a-4baf-9a55-1966c3a8e517"
   },
   "source": [
    "## <span style=\"color:blue\"> IV. Validate the model (offline).</span>\n",
    "In this section, we apply the neural network to the validation dataset and see how well the neural net has been trained."
   ]
  },
  {
   "cell_type": "code",
   "execution_count": null,
   "id": "15a7cd0e-3d94-41e7-9c5c-4fa1c6c30454",
   "metadata": {
    "colab": {
     "base_uri": "https://localhost:8080/"
    },
    "id": "15a7cd0e-3d94-41e7-9c5c-4fa1c6c30454",
    "outputId": "c77f0073-2ad5-4f41-8750-a31eb228fa78"
   },
   "outputs": [],
   "source": [
    "ypredict = scaler_y.inverse_transform(model.predict(scaler_x.transform(Xval)).squeeze())"
   ]
  },
  {
   "cell_type": "code",
   "execution_count": null,
   "id": "effce0c6-37d2-4ae4-b127-24eb04e9e826",
   "metadata": {
    "colab": {
     "base_uri": "https://localhost:8080/",
     "height": 413
    },
    "id": "effce0c6-37d2-4ae4-b127-24eb04e9e826",
    "outputId": "6852400c-3d16-4423-942e-d5f651f6feb0"
   },
   "outputs": [],
   "source": [
    "ax = scatter_plot (yval[:,20], ypredict[:,20])\n",
    "ax.set_xlabel('target error')\n",
    "ax.set_ylabel('predicted error');\n",
    "ax.axis('equal');\n",
    "\n"
   ]
  },
  {
   "cell_type": "markdown",
   "id": "09266f98-55bc-4654-8016-3cfb3c983247",
   "metadata": {
    "id": "09266f98-55bc-4654-8016-3cfb3c983247"
   },
   "source": [
    "There is a significant correlation between the target error and the predicted error (around 0.18), which is what we hoped for.\n",
    "The neural network is supposed to learn the model error: if the analysis is used, the model error is estimated and therefore noisy because of the noise in the observation and the uncertainty of the analysis. So ideally, we don't aim at a correlation of 1, since it would mean that the neural network has fitted also the noise of the data. On the contrary, if the neural is trained using the *true* model error (`learning=truth`), you aim at the best possible correlation."
   ]
  },
  {
   "cell_type": "markdown",
   "id": "lVGH6ZUK1_Hr",
   "metadata": {
    "id": "lVGH6ZUK1_Hr"
   },
   "source": [
    "## <span style=\"color:blue\"> V. On our way to part III  </span>\n",
    "\n",
    "If you are under Colab, click here to continue with part III: [![Open In Colab](https://colab.research.google.com/assets/colab-badge.svg) ](https://colab.research.google.com/github/marcbocquet/2022-mooc-ecmwf-bocquet-brajard/blob/main/mooc_ecmwf_bocquet_brajard_part3.ipynb)"
   ]
  }
 ],
 "metadata": {
  "colab": {
   "provenance": []
  },
  "gpuClass": "standard",
  "kernelspec": {
   "display_name": "Python 3 (ipykernel)",
   "language": "python",
   "name": "python3"
  },
  "language_info": {
   "codemirror_mode": {
    "name": "ipython",
    "version": 3
   },
   "file_extension": ".py",
   "mimetype": "text/x-python",
   "name": "python",
   "nbconvert_exporter": "python",
   "pygments_lexer": "ipython3",
   "version": "3.8.15"
  },
  "widgets": {
   "application/vnd.jupyter.widget-state+json": {
    "013c2ca16a9f43bbbde8c9f746837eda": {
     "model_module": "@jupyter-widgets/base",
     "model_module_version": "1.2.0",
     "model_name": "LayoutModel",
     "state": {
      "_model_module": "@jupyter-widgets/base",
      "_model_module_version": "1.2.0",
      "_model_name": "LayoutModel",
      "_view_count": null,
      "_view_module": "@jupyter-widgets/base",
      "_view_module_version": "1.2.0",
      "_view_name": "LayoutView",
      "align_content": null,
      "align_items": null,
      "align_self": null,
      "border": null,
      "bottom": null,
      "display": null,
      "flex": null,
      "flex_flow": null,
      "grid_area": null,
      "grid_auto_columns": null,
      "grid_auto_flow": null,
      "grid_auto_rows": null,
      "grid_column": null,
      "grid_gap": null,
      "grid_row": null,
      "grid_template_areas": null,
      "grid_template_columns": null,
      "grid_template_rows": null,
      "height": null,
      "justify_content": null,
      "justify_items": null,
      "left": null,
      "margin": null,
      "max_height": null,
      "max_width": null,
      "min_height": null,
      "min_width": null,
      "object_fit": null,
      "object_position": null,
      "order": null,
      "overflow": null,
      "overflow_x": null,
      "overflow_y": null,
      "padding": null,
      "right": null,
      "top": null,
      "visibility": null,
      "width": null
     }
    },
    "09ba5482356046c1905faafcf7f77c9d": {
     "model_module": "@jupyter-widgets/controls",
     "model_module_version": "1.5.0",
     "model_name": "DescriptionStyleModel",
     "state": {
      "_model_module": "@jupyter-widgets/controls",
      "_model_module_version": "1.5.0",
      "_model_name": "DescriptionStyleModel",
      "_view_count": null,
      "_view_module": "@jupyter-widgets/base",
      "_view_module_version": "1.2.0",
      "_view_name": "StyleView",
      "description_width": ""
     }
    },
    "0c091879d3ba48edb9b762aff8c5cd92": {
     "model_module": "@jupyter-widgets/controls",
     "model_module_version": "1.5.0",
     "model_name": "DescriptionStyleModel",
     "state": {
      "_model_module": "@jupyter-widgets/controls",
      "_model_module_version": "1.5.0",
      "_model_name": "DescriptionStyleModel",
      "_view_count": null,
      "_view_module": "@jupyter-widgets/base",
      "_view_module_version": "1.2.0",
      "_view_name": "StyleView",
      "description_width": ""
     }
    },
    "0ca41fb9aee44015b0e1112daa393634": {
     "model_module": "@jupyter-widgets/base",
     "model_module_version": "1.2.0",
     "model_name": "LayoutModel",
     "state": {
      "_model_module": "@jupyter-widgets/base",
      "_model_module_version": "1.2.0",
      "_model_name": "LayoutModel",
      "_view_count": null,
      "_view_module": "@jupyter-widgets/base",
      "_view_module_version": "1.2.0",
      "_view_name": "LayoutView",
      "align_content": null,
      "align_items": null,
      "align_self": null,
      "border": null,
      "bottom": null,
      "display": null,
      "flex": null,
      "flex_flow": null,
      "grid_area": null,
      "grid_auto_columns": null,
      "grid_auto_flow": null,
      "grid_auto_rows": null,
      "grid_column": null,
      "grid_gap": null,
      "grid_row": null,
      "grid_template_areas": null,
      "grid_template_columns": null,
      "grid_template_rows": null,
      "height": null,
      "justify_content": null,
      "justify_items": null,
      "left": null,
      "margin": null,
      "max_height": null,
      "max_width": null,
      "min_height": null,
      "min_width": null,
      "object_fit": null,
      "object_position": null,
      "order": null,
      "overflow": null,
      "overflow_x": null,
      "overflow_y": null,
      "padding": null,
      "right": null,
      "top": null,
      "visibility": null,
      "width": null
     }
    },
    "0dfef0c43c87493d803b6849ecf7fa11": {
     "model_module": "@jupyter-widgets/base",
     "model_module_version": "1.2.0",
     "model_name": "LayoutModel",
     "state": {
      "_model_module": "@jupyter-widgets/base",
      "_model_module_version": "1.2.0",
      "_model_name": "LayoutModel",
      "_view_count": null,
      "_view_module": "@jupyter-widgets/base",
      "_view_module_version": "1.2.0",
      "_view_name": "LayoutView",
      "align_content": null,
      "align_items": null,
      "align_self": null,
      "border": null,
      "bottom": null,
      "display": null,
      "flex": null,
      "flex_flow": null,
      "grid_area": null,
      "grid_auto_columns": null,
      "grid_auto_flow": null,
      "grid_auto_rows": null,
      "grid_column": null,
      "grid_gap": null,
      "grid_row": null,
      "grid_template_areas": null,
      "grid_template_columns": null,
      "grid_template_rows": null,
      "height": null,
      "justify_content": null,
      "justify_items": null,
      "left": null,
      "margin": null,
      "max_height": null,
      "max_width": null,
      "min_height": null,
      "min_width": null,
      "object_fit": null,
      "object_position": null,
      "order": null,
      "overflow": null,
      "overflow_x": null,
      "overflow_y": null,
      "padding": null,
      "right": null,
      "top": null,
      "visibility": null,
      "width": null
     }
    },
    "10bd83a61fce44e9b951d9f72cee9c1e": {
     "model_module": "@jupyter-widgets/base",
     "model_module_version": "1.2.0",
     "model_name": "LayoutModel",
     "state": {
      "_model_module": "@jupyter-widgets/base",
      "_model_module_version": "1.2.0",
      "_model_name": "LayoutModel",
      "_view_count": null,
      "_view_module": "@jupyter-widgets/base",
      "_view_module_version": "1.2.0",
      "_view_name": "LayoutView",
      "align_content": null,
      "align_items": null,
      "align_self": null,
      "border": null,
      "bottom": null,
      "display": null,
      "flex": null,
      "flex_flow": null,
      "grid_area": null,
      "grid_auto_columns": null,
      "grid_auto_flow": null,
      "grid_auto_rows": null,
      "grid_column": null,
      "grid_gap": null,
      "grid_row": null,
      "grid_template_areas": null,
      "grid_template_columns": null,
      "grid_template_rows": null,
      "height": null,
      "justify_content": null,
      "justify_items": null,
      "left": null,
      "margin": null,
      "max_height": null,
      "max_width": null,
      "min_height": null,
      "min_width": null,
      "object_fit": null,
      "object_position": null,
      "order": null,
      "overflow": null,
      "overflow_x": null,
      "overflow_y": null,
      "padding": null,
      "right": null,
      "top": null,
      "visibility": null,
      "width": null
     }
    },
    "125c84f09fcb4666b79236f179d19827": {
     "model_module": "@jupyter-widgets/base",
     "model_module_version": "1.2.0",
     "model_name": "LayoutModel",
     "state": {
      "_model_module": "@jupyter-widgets/base",
      "_model_module_version": "1.2.0",
      "_model_name": "LayoutModel",
      "_view_count": null,
      "_view_module": "@jupyter-widgets/base",
      "_view_module_version": "1.2.0",
      "_view_name": "LayoutView",
      "align_content": null,
      "align_items": null,
      "align_self": null,
      "border": null,
      "bottom": null,
      "display": null,
      "flex": null,
      "flex_flow": null,
      "grid_area": null,
      "grid_auto_columns": null,
      "grid_auto_flow": null,
      "grid_auto_rows": null,
      "grid_column": null,
      "grid_gap": null,
      "grid_row": null,
      "grid_template_areas": null,
      "grid_template_columns": null,
      "grid_template_rows": null,
      "height": null,
      "justify_content": null,
      "justify_items": null,
      "left": null,
      "margin": null,
      "max_height": null,
      "max_width": null,
      "min_height": null,
      "min_width": null,
      "object_fit": null,
      "object_position": null,
      "order": null,
      "overflow": null,
      "overflow_x": null,
      "overflow_y": null,
      "padding": null,
      "right": null,
      "top": null,
      "visibility": null,
      "width": null
     }
    },
    "12762e6f19e44be9b4824d54b97acd15": {
     "model_module": "@jupyter-widgets/base",
     "model_module_version": "1.2.0",
     "model_name": "LayoutModel",
     "state": {
      "_model_module": "@jupyter-widgets/base",
      "_model_module_version": "1.2.0",
      "_model_name": "LayoutModel",
      "_view_count": null,
      "_view_module": "@jupyter-widgets/base",
      "_view_module_version": "1.2.0",
      "_view_name": "LayoutView",
      "align_content": null,
      "align_items": null,
      "align_self": null,
      "border": null,
      "bottom": null,
      "display": null,
      "flex": null,
      "flex_flow": null,
      "grid_area": null,
      "grid_auto_columns": null,
      "grid_auto_flow": null,
      "grid_auto_rows": null,
      "grid_column": null,
      "grid_gap": null,
      "grid_row": null,
      "grid_template_areas": null,
      "grid_template_columns": null,
      "grid_template_rows": null,
      "height": null,
      "justify_content": null,
      "justify_items": null,
      "left": null,
      "margin": null,
      "max_height": null,
      "max_width": null,
      "min_height": null,
      "min_width": null,
      "object_fit": null,
      "object_position": null,
      "order": null,
      "overflow": null,
      "overflow_x": null,
      "overflow_y": null,
      "padding": null,
      "right": null,
      "top": null,
      "visibility": null,
      "width": null
     }
    },
    "19c75562bce7421e8da187e97c4b08c3": {
     "model_module": "@jupyter-widgets/controls",
     "model_module_version": "1.5.0",
     "model_name": "HTMLModel",
     "state": {
      "_dom_classes": [],
      "_model_module": "@jupyter-widgets/controls",
      "_model_module_version": "1.5.0",
      "_model_name": "HTMLModel",
      "_view_count": null,
      "_view_module": "@jupyter-widgets/controls",
      "_view_module_version": "1.5.0",
      "_view_name": "HTMLView",
      "description": "",
      "description_tooltip": null,
      "layout": "IPY_MODEL_98ccbf5dfc0e48d29b21891e60ab6c4c",
      "placeholder": "​",
      "style": "IPY_MODEL_6fa25cae71b9497da2a408cbb2e44ccf",
      "value": "true model integration: 100%"
     }
    },
    "21bd22f8052b49b98acbb98a922d7d52": {
     "model_module": "@jupyter-widgets/base",
     "model_module_version": "1.2.0",
     "model_name": "LayoutModel",
     "state": {
      "_model_module": "@jupyter-widgets/base",
      "_model_module_version": "1.2.0",
      "_model_name": "LayoutModel",
      "_view_count": null,
      "_view_module": "@jupyter-widgets/base",
      "_view_module_version": "1.2.0",
      "_view_name": "LayoutView",
      "align_content": null,
      "align_items": null,
      "align_self": null,
      "border": null,
      "bottom": null,
      "display": null,
      "flex": null,
      "flex_flow": null,
      "grid_area": null,
      "grid_auto_columns": null,
      "grid_auto_flow": null,
      "grid_auto_rows": null,
      "grid_column": null,
      "grid_gap": null,
      "grid_row": null,
      "grid_template_areas": null,
      "grid_template_columns": null,
      "grid_template_rows": null,
      "height": null,
      "justify_content": null,
      "justify_items": null,
      "left": null,
      "margin": null,
      "max_height": null,
      "max_width": null,
      "min_height": null,
      "min_width": null,
      "object_fit": null,
      "object_position": null,
      "order": null,
      "overflow": null,
      "overflow_x": null,
      "overflow_y": null,
      "padding": null,
      "right": null,
      "top": null,
      "visibility": null,
      "width": null
     }
    },
    "2233d06a6bc949c1b21917875d699b85": {
     "model_module": "@jupyter-widgets/base",
     "model_module_version": "1.2.0",
     "model_name": "LayoutModel",
     "state": {
      "_model_module": "@jupyter-widgets/base",
      "_model_module_version": "1.2.0",
      "_model_name": "LayoutModel",
      "_view_count": null,
      "_view_module": "@jupyter-widgets/base",
      "_view_module_version": "1.2.0",
      "_view_name": "LayoutView",
      "align_content": null,
      "align_items": null,
      "align_self": null,
      "border": null,
      "bottom": null,
      "display": null,
      "flex": null,
      "flex_flow": null,
      "grid_area": null,
      "grid_auto_columns": null,
      "grid_auto_flow": null,
      "grid_auto_rows": null,
      "grid_column": null,
      "grid_gap": null,
      "grid_row": null,
      "grid_template_areas": null,
      "grid_template_columns": null,
      "grid_template_rows": null,
      "height": null,
      "justify_content": null,
      "justify_items": null,
      "left": null,
      "margin": null,
      "max_height": null,
      "max_width": null,
      "min_height": null,
      "min_width": null,
      "object_fit": null,
      "object_position": null,
      "order": null,
      "overflow": null,
      "overflow_x": null,
      "overflow_y": null,
      "padding": null,
      "right": null,
      "top": null,
      "visibility": null,
      "width": null
     }
    },
    "2265c62e2c654e25a51d7bba6d6744f9": {
     "model_module": "@jupyter-widgets/base",
     "model_module_version": "1.2.0",
     "model_name": "LayoutModel",
     "state": {
      "_model_module": "@jupyter-widgets/base",
      "_model_module_version": "1.2.0",
      "_model_name": "LayoutModel",
      "_view_count": null,
      "_view_module": "@jupyter-widgets/base",
      "_view_module_version": "1.2.0",
      "_view_name": "LayoutView",
      "align_content": null,
      "align_items": null,
      "align_self": null,
      "border": null,
      "bottom": null,
      "display": null,
      "flex": null,
      "flex_flow": null,
      "grid_area": null,
      "grid_auto_columns": null,
      "grid_auto_flow": null,
      "grid_auto_rows": null,
      "grid_column": null,
      "grid_gap": null,
      "grid_row": null,
      "grid_template_areas": null,
      "grid_template_columns": null,
      "grid_template_rows": null,
      "height": null,
      "justify_content": null,
      "justify_items": null,
      "left": null,
      "margin": null,
      "max_height": null,
      "max_width": null,
      "min_height": null,
      "min_width": null,
      "object_fit": null,
      "object_position": null,
      "order": null,
      "overflow": null,
      "overflow_x": null,
      "overflow_y": null,
      "padding": null,
      "right": null,
      "top": null,
      "visibility": null,
      "width": null
     }
    },
    "23ad55be58a045ea82d6aa18519d6739": {
     "model_module": "@jupyter-widgets/controls",
     "model_module_version": "1.5.0",
     "model_name": "HTMLModel",
     "state": {
      "_dom_classes": [],
      "_model_module": "@jupyter-widgets/controls",
      "_model_module_version": "1.5.0",
      "_model_name": "HTMLModel",
      "_view_count": null,
      "_view_module": "@jupyter-widgets/controls",
      "_view_module_version": "1.5.0",
      "_view_name": "HTMLView",
      "description": "",
      "description_tooltip": null,
      "layout": "IPY_MODEL_21bd22f8052b49b98acbb98a922d7d52",
      "placeholder": "​",
      "style": "IPY_MODEL_09ba5482356046c1905faafcf7f77c9d",
      "value": " 500/500 [00:00&lt;00:00, 807.95it/s]"
     }
    },
    "2403d9c27b92416595809f8851b7e786": {
     "model_module": "@jupyter-widgets/base",
     "model_module_version": "1.2.0",
     "model_name": "LayoutModel",
     "state": {
      "_model_module": "@jupyter-widgets/base",
      "_model_module_version": "1.2.0",
      "_model_name": "LayoutModel",
      "_view_count": null,
      "_view_module": "@jupyter-widgets/base",
      "_view_module_version": "1.2.0",
      "_view_name": "LayoutView",
      "align_content": null,
      "align_items": null,
      "align_self": null,
      "border": null,
      "bottom": null,
      "display": null,
      "flex": null,
      "flex_flow": null,
      "grid_area": null,
      "grid_auto_columns": null,
      "grid_auto_flow": null,
      "grid_auto_rows": null,
      "grid_column": null,
      "grid_gap": null,
      "grid_row": null,
      "grid_template_areas": null,
      "grid_template_columns": null,
      "grid_template_rows": null,
      "height": null,
      "justify_content": null,
      "justify_items": null,
      "left": null,
      "margin": null,
      "max_height": null,
      "max_width": null,
      "min_height": null,
      "min_width": null,
      "object_fit": null,
      "object_position": null,
      "order": null,
      "overflow": null,
      "overflow_x": null,
      "overflow_y": null,
      "padding": null,
      "right": null,
      "top": null,
      "visibility": null,
      "width": null
     }
    },
    "24eb5bf591a3440b92ef49cba0b848ff": {
     "model_module": "@jupyter-widgets/controls",
     "model_module_version": "1.5.0",
     "model_name": "FloatProgressModel",
     "state": {
      "_dom_classes": [],
      "_model_module": "@jupyter-widgets/controls",
      "_model_module_version": "1.5.0",
      "_model_name": "FloatProgressModel",
      "_view_count": null,
      "_view_module": "@jupyter-widgets/controls",
      "_view_module_version": "1.5.0",
      "_view_name": "ProgressView",
      "bar_style": "success",
      "description": "",
      "description_tooltip": null,
      "layout": "IPY_MODEL_013c2ca16a9f43bbbde8c9f746837eda",
      "max": 500,
      "min": 0,
      "orientation": "horizontal",
      "style": "IPY_MODEL_670eb83f4a3047f38456fd21ab792418",
      "value": 500
     }
    },
    "2b2a5f4feec34418a815cbaddac8c9e6": {
     "model_module": "@jupyter-widgets/controls",
     "model_module_version": "1.5.0",
     "model_name": "HBoxModel",
     "state": {
      "_dom_classes": [],
      "_model_module": "@jupyter-widgets/controls",
      "_model_module_version": "1.5.0",
      "_model_name": "HBoxModel",
      "_view_count": null,
      "_view_module": "@jupyter-widgets/controls",
      "_view_module_version": "1.5.0",
      "_view_name": "HBoxView",
      "box_style": "",
      "children": [
       "IPY_MODEL_19c75562bce7421e8da187e97c4b08c3",
       "IPY_MODEL_e48505496f2142ecac7cc2f43105dfe2",
       "IPY_MODEL_8153b322cbc9499a9444429bb39e797c"
      ],
      "layout": "IPY_MODEL_0dfef0c43c87493d803b6849ecf7fa11"
     }
    },
    "320eba1b9795450db713503c124ef4c8": {
     "model_module": "@jupyter-widgets/base",
     "model_module_version": "1.2.0",
     "model_name": "LayoutModel",
     "state": {
      "_model_module": "@jupyter-widgets/base",
      "_model_module_version": "1.2.0",
      "_model_name": "LayoutModel",
      "_view_count": null,
      "_view_module": "@jupyter-widgets/base",
      "_view_module_version": "1.2.0",
      "_view_name": "LayoutView",
      "align_content": null,
      "align_items": null,
      "align_self": null,
      "border": null,
      "bottom": null,
      "display": null,
      "flex": null,
      "flex_flow": null,
      "grid_area": null,
      "grid_auto_columns": null,
      "grid_auto_flow": null,
      "grid_auto_rows": null,
      "grid_column": null,
      "grid_gap": null,
      "grid_row": null,
      "grid_template_areas": null,
      "grid_template_columns": null,
      "grid_template_rows": null,
      "height": null,
      "justify_content": null,
      "justify_items": null,
      "left": null,
      "margin": null,
      "max_height": null,
      "max_width": null,
      "min_height": null,
      "min_width": null,
      "object_fit": null,
      "object_position": null,
      "order": null,
      "overflow": null,
      "overflow_x": null,
      "overflow_y": null,
      "padding": null,
      "right": null,
      "top": null,
      "visibility": null,
      "width": null
     }
    },
    "35b724c3fb1f4517ae9e33f151b578e9": {
     "model_module": "@jupyter-widgets/controls",
     "model_module_version": "1.5.0",
     "model_name": "DescriptionStyleModel",
     "state": {
      "_model_module": "@jupyter-widgets/controls",
      "_model_module_version": "1.5.0",
      "_model_name": "DescriptionStyleModel",
      "_view_count": null,
      "_view_module": "@jupyter-widgets/base",
      "_view_module_version": "1.2.0",
      "_view_name": "StyleView",
      "description_width": ""
     }
    },
    "38b06265149143a09648875f5a435782": {
     "model_module": "@jupyter-widgets/controls",
     "model_module_version": "1.5.0",
     "model_name": "HTMLModel",
     "state": {
      "_dom_classes": [],
      "_model_module": "@jupyter-widgets/controls",
      "_model_module_version": "1.5.0",
      "_model_name": "HTMLModel",
      "_view_count": null,
      "_view_module": "@jupyter-widgets/controls",
      "_view_module_version": "1.5.0",
      "_view_name": "HTMLView",
      "description": "",
      "description_tooltip": null,
      "layout": "IPY_MODEL_2233d06a6bc949c1b21917875d699b85",
      "placeholder": "​",
      "style": "IPY_MODEL_82a0a5bcffbd431cb12359259e78b76e",
      "value": " 500/500 [03:53&lt;00:00,  2.28it/s, mse=0.796, val_mse=0.813]"
     }
    },
    "3acf1cac85e9490483a4ef865289b917": {
     "model_module": "@jupyter-widgets/controls",
     "model_module_version": "1.5.0",
     "model_name": "ProgressStyleModel",
     "state": {
      "_model_module": "@jupyter-widgets/controls",
      "_model_module_version": "1.5.0",
      "_model_name": "ProgressStyleModel",
      "_view_count": null,
      "_view_module": "@jupyter-widgets/base",
      "_view_module_version": "1.2.0",
      "_view_name": "StyleView",
      "bar_color": null,
      "description_width": ""
     }
    },
    "3f80dd8cc17842b0b542dffa7d0b1f8b": {
     "model_module": "@jupyter-widgets/controls",
     "model_module_version": "1.5.0",
     "model_name": "DescriptionStyleModel",
     "state": {
      "_model_module": "@jupyter-widgets/controls",
      "_model_module_version": "1.5.0",
      "_model_name": "DescriptionStyleModel",
      "_view_count": null,
      "_view_module": "@jupyter-widgets/base",
      "_view_module_version": "1.2.0",
      "_view_name": "StyleView",
      "description_width": ""
     }
    },
    "46df280ab0e1494aada1d25fd0c6cd93": {
     "model_module": "@jupyter-widgets/base",
     "model_module_version": "1.2.0",
     "model_name": "LayoutModel",
     "state": {
      "_model_module": "@jupyter-widgets/base",
      "_model_module_version": "1.2.0",
      "_model_name": "LayoutModel",
      "_view_count": null,
      "_view_module": "@jupyter-widgets/base",
      "_view_module_version": "1.2.0",
      "_view_name": "LayoutView",
      "align_content": null,
      "align_items": null,
      "align_self": null,
      "border": null,
      "bottom": null,
      "display": null,
      "flex": null,
      "flex_flow": null,
      "grid_area": null,
      "grid_auto_columns": null,
      "grid_auto_flow": null,
      "grid_auto_rows": null,
      "grid_column": null,
      "grid_gap": null,
      "grid_row": null,
      "grid_template_areas": null,
      "grid_template_columns": null,
      "grid_template_rows": null,
      "height": null,
      "justify_content": null,
      "justify_items": null,
      "left": null,
      "margin": null,
      "max_height": null,
      "max_width": null,
      "min_height": null,
      "min_width": null,
      "object_fit": null,
      "object_position": null,
      "order": null,
      "overflow": null,
      "overflow_x": null,
      "overflow_y": null,
      "padding": null,
      "right": null,
      "top": null,
      "visibility": null,
      "width": null
     }
    },
    "4a2e89f1f6bf4eedbca0ad25d5a04de0": {
     "model_module": "@jupyter-widgets/controls",
     "model_module_version": "1.5.0",
     "model_name": "HTMLModel",
     "state": {
      "_dom_classes": [],
      "_model_module": "@jupyter-widgets/controls",
      "_model_module_version": "1.5.0",
      "_model_name": "HTMLModel",
      "_view_count": null,
      "_view_module": "@jupyter-widgets/controls",
      "_view_module_version": "1.5.0",
      "_view_name": "HTMLView",
      "description": "",
      "description_tooltip": null,
      "layout": "IPY_MODEL_2403d9c27b92416595809f8851b7e786",
      "placeholder": "​",
      "style": "IPY_MODEL_69b622f0565f42e8a16844d3d6fef28b",
      "value": "physical model integration: 100%"
     }
    },
    "5c276d02f53b4cb88de8b336dc660cfd": {
     "model_module": "@jupyter-widgets/controls",
     "model_module_version": "1.5.0",
     "model_name": "FloatProgressModel",
     "state": {
      "_dom_classes": [],
      "_model_module": "@jupyter-widgets/controls",
      "_model_module_version": "1.5.0",
      "_model_name": "FloatProgressModel",
      "_view_count": null,
      "_view_module": "@jupyter-widgets/controls",
      "_view_module_version": "1.5.0",
      "_view_name": "ProgressView",
      "bar_style": "success",
      "description": "",
      "description_tooltip": null,
      "layout": "IPY_MODEL_0ca41fb9aee44015b0e1112daa393634",
      "max": 500,
      "min": 0,
      "orientation": "horizontal",
      "style": "IPY_MODEL_da7f410b46fa4574adf21b5b7c1be74d",
      "value": 500
     }
    },
    "5e313cac6dd94aac9ec6e55789cc5136": {
     "model_module": "@jupyter-widgets/controls",
     "model_module_version": "1.5.0",
     "model_name": "HBoxModel",
     "state": {
      "_dom_classes": [],
      "_model_module": "@jupyter-widgets/controls",
      "_model_module_version": "1.5.0",
      "_model_name": "HBoxModel",
      "_view_count": null,
      "_view_module": "@jupyter-widgets/controls",
      "_view_module_version": "1.5.0",
      "_view_name": "HBoxView",
      "box_style": "",
      "children": [
       "IPY_MODEL_9fb61e3b0e6949aea6f4a6b7154f4ce0",
       "IPY_MODEL_95a89ac1b6924365b4bccff08a482f49",
       "IPY_MODEL_f8cab4150ab040aeb033f64745faad74"
      ],
      "layout": "IPY_MODEL_46df280ab0e1494aada1d25fd0c6cd93"
     }
    },
    "608345d3c72442538d04f01665b690e9": {
     "model_module": "@jupyter-widgets/controls",
     "model_module_version": "1.5.0",
     "model_name": "ProgressStyleModel",
     "state": {
      "_model_module": "@jupyter-widgets/controls",
      "_model_module_version": "1.5.0",
      "_model_name": "ProgressStyleModel",
      "_view_count": null,
      "_view_module": "@jupyter-widgets/base",
      "_view_module_version": "1.2.0",
      "_view_name": "StyleView",
      "bar_color": null,
      "description_width": ""
     }
    },
    "63ab33992e6747789c6aa30d7fd3ca7b": {
     "model_module": "@jupyter-widgets/controls",
     "model_module_version": "1.5.0",
     "model_name": "FloatProgressModel",
     "state": {
      "_dom_classes": [],
      "_model_module": "@jupyter-widgets/controls",
      "_model_module_version": "1.5.0",
      "_model_name": "FloatProgressModel",
      "_view_count": null,
      "_view_module": "@jupyter-widgets/controls",
      "_view_module_version": "1.5.0",
      "_view_name": "ProgressView",
      "bar_style": "success",
      "description": "",
      "description_tooltip": null,
      "layout": "IPY_MODEL_125c84f09fcb4666b79236f179d19827",
      "max": 500,
      "min": 0,
      "orientation": "horizontal",
      "style": "IPY_MODEL_ec55d4f2783d4264a14534273656a4a5",
      "value": 500
     }
    },
    "670eb83f4a3047f38456fd21ab792418": {
     "model_module": "@jupyter-widgets/controls",
     "model_module_version": "1.5.0",
     "model_name": "ProgressStyleModel",
     "state": {
      "_model_module": "@jupyter-widgets/controls",
      "_model_module_version": "1.5.0",
      "_model_name": "ProgressStyleModel",
      "_view_count": null,
      "_view_module": "@jupyter-widgets/base",
      "_view_module_version": "1.2.0",
      "_view_name": "StyleView",
      "bar_color": null,
      "description_width": ""
     }
    },
    "675634702dbb4e31ba310b6cfb154ab6": {
     "model_module": "@jupyter-widgets/base",
     "model_module_version": "1.2.0",
     "model_name": "LayoutModel",
     "state": {
      "_model_module": "@jupyter-widgets/base",
      "_model_module_version": "1.2.0",
      "_model_name": "LayoutModel",
      "_view_count": null,
      "_view_module": "@jupyter-widgets/base",
      "_view_module_version": "1.2.0",
      "_view_name": "LayoutView",
      "align_content": null,
      "align_items": null,
      "align_self": null,
      "border": null,
      "bottom": null,
      "display": null,
      "flex": null,
      "flex_flow": null,
      "grid_area": null,
      "grid_auto_columns": null,
      "grid_auto_flow": null,
      "grid_auto_rows": null,
      "grid_column": null,
      "grid_gap": null,
      "grid_row": null,
      "grid_template_areas": null,
      "grid_template_columns": null,
      "grid_template_rows": null,
      "height": null,
      "justify_content": null,
      "justify_items": null,
      "left": null,
      "margin": null,
      "max_height": null,
      "max_width": null,
      "min_height": null,
      "min_width": null,
      "object_fit": null,
      "object_position": null,
      "order": null,
      "overflow": null,
      "overflow_x": null,
      "overflow_y": null,
      "padding": null,
      "right": null,
      "top": null,
      "visibility": null,
      "width": null
     }
    },
    "6887d263554c4ce2a3e629693d29825b": {
     "model_module": "@jupyter-widgets/controls",
     "model_module_version": "1.5.0",
     "model_name": "ProgressStyleModel",
     "state": {
      "_model_module": "@jupyter-widgets/controls",
      "_model_module_version": "1.5.0",
      "_model_name": "ProgressStyleModel",
      "_view_count": null,
      "_view_module": "@jupyter-widgets/base",
      "_view_module_version": "1.2.0",
      "_view_name": "StyleView",
      "bar_color": null,
      "description_width": ""
     }
    },
    "69b622f0565f42e8a16844d3d6fef28b": {
     "model_module": "@jupyter-widgets/controls",
     "model_module_version": "1.5.0",
     "model_name": "DescriptionStyleModel",
     "state": {
      "_model_module": "@jupyter-widgets/controls",
      "_model_module_version": "1.5.0",
      "_model_name": "DescriptionStyleModel",
      "_view_count": null,
      "_view_module": "@jupyter-widgets/base",
      "_view_module_version": "1.2.0",
      "_view_name": "StyleView",
      "description_width": ""
     }
    },
    "6fa25cae71b9497da2a408cbb2e44ccf": {
     "model_module": "@jupyter-widgets/controls",
     "model_module_version": "1.5.0",
     "model_name": "DescriptionStyleModel",
     "state": {
      "_model_module": "@jupyter-widgets/controls",
      "_model_module_version": "1.5.0",
      "_model_name": "DescriptionStyleModel",
      "_view_count": null,
      "_view_module": "@jupyter-widgets/base",
      "_view_module_version": "1.2.0",
      "_view_name": "StyleView",
      "description_width": ""
     }
    },
    "747d3c6ccb794e67bfc262ce031f9fc5": {
     "model_module": "@jupyter-widgets/controls",
     "model_module_version": "1.5.0",
     "model_name": "HBoxModel",
     "state": {
      "_dom_classes": [],
      "_model_module": "@jupyter-widgets/controls",
      "_model_module_version": "1.5.0",
      "_model_name": "HBoxModel",
      "_view_count": null,
      "_view_module": "@jupyter-widgets/controls",
      "_view_module_version": "1.5.0",
      "_view_name": "HBoxView",
      "box_style": "",
      "children": [
       "IPY_MODEL_973fca2dd29b4e0881bace37d1eca805",
       "IPY_MODEL_24eb5bf591a3440b92ef49cba0b848ff",
       "IPY_MODEL_38b06265149143a09648875f5a435782"
      ],
      "layout": "IPY_MODEL_cb7abe9177294838930daa210455aef3"
     }
    },
    "8153b322cbc9499a9444429bb39e797c": {
     "model_module": "@jupyter-widgets/controls",
     "model_module_version": "1.5.0",
     "model_name": "HTMLModel",
     "state": {
      "_dom_classes": [],
      "_model_module": "@jupyter-widgets/controls",
      "_model_module_version": "1.5.0",
      "_model_name": "HTMLModel",
      "_view_count": null,
      "_view_module": "@jupyter-widgets/controls",
      "_view_module_version": "1.5.0",
      "_view_name": "HTMLView",
      "description": "",
      "description_tooltip": null,
      "layout": "IPY_MODEL_f966d3ecfee44e5cacdedcd292c4c6b0",
      "placeholder": "​",
      "style": "IPY_MODEL_d6c6b760b1cc472dbd2df015c2c3efa9",
      "value": " 12000/12000 [00:12&lt;00:00, 961.20it/s]"
     }
    },
    "82a0a5bcffbd431cb12359259e78b76e": {
     "model_module": "@jupyter-widgets/controls",
     "model_module_version": "1.5.0",
     "model_name": "DescriptionStyleModel",
     "state": {
      "_model_module": "@jupyter-widgets/controls",
      "_model_module_version": "1.5.0",
      "_model_name": "DescriptionStyleModel",
      "_view_count": null,
      "_view_module": "@jupyter-widgets/base",
      "_view_module_version": "1.2.0",
      "_view_name": "StyleView",
      "description_width": ""
     }
    },
    "835d070e8f344cfd92b79773ba7023b5": {
     "model_module": "@jupyter-widgets/controls",
     "model_module_version": "1.5.0",
     "model_name": "HBoxModel",
     "state": {
      "_dom_classes": [],
      "_model_module": "@jupyter-widgets/controls",
      "_model_module_version": "1.5.0",
      "_model_name": "HBoxModel",
      "_view_count": null,
      "_view_module": "@jupyter-widgets/controls",
      "_view_module_version": "1.5.0",
      "_view_name": "HBoxView",
      "box_style": "",
      "children": [
       "IPY_MODEL_ffb331998a1d41cd8132263b449c68b9",
       "IPY_MODEL_5c276d02f53b4cb88de8b336dc660cfd",
       "IPY_MODEL_23ad55be58a045ea82d6aa18519d6739"
      ],
      "layout": "IPY_MODEL_10bd83a61fce44e9b951d9f72cee9c1e"
     }
    },
    "85a3c4eb85ed4672a8ee46a037372300": {
     "model_module": "@jupyter-widgets/controls",
     "model_module_version": "1.5.0",
     "model_name": "HBoxModel",
     "state": {
      "_dom_classes": [],
      "_model_module": "@jupyter-widgets/controls",
      "_model_module_version": "1.5.0",
      "_model_name": "HBoxModel",
      "_view_count": null,
      "_view_module": "@jupyter-widgets/controls",
      "_view_module_version": "1.5.0",
      "_view_name": "HBoxView",
      "box_style": "",
      "children": [
       "IPY_MODEL_4a2e89f1f6bf4eedbca0ad25d5a04de0",
       "IPY_MODEL_63ab33992e6747789c6aa30d7fd3ca7b",
       "IPY_MODEL_ddb4dc44dafc4f7ab81ee0be4bd36d29"
      ],
      "layout": "IPY_MODEL_12762e6f19e44be9b4824d54b97acd15"
     }
    },
    "89b15c11862e4bfda72fcff7ea1e92d1": {
     "model_module": "@jupyter-widgets/controls",
     "model_module_version": "1.5.0",
     "model_name": "DescriptionStyleModel",
     "state": {
      "_model_module": "@jupyter-widgets/controls",
      "_model_module_version": "1.5.0",
      "_model_name": "DescriptionStyleModel",
      "_view_count": null,
      "_view_module": "@jupyter-widgets/base",
      "_view_module_version": "1.2.0",
      "_view_name": "StyleView",
      "description_width": ""
     }
    },
    "9315aadffe264b1a89bddc22ed186249": {
     "model_module": "@jupyter-widgets/base",
     "model_module_version": "1.2.0",
     "model_name": "LayoutModel",
     "state": {
      "_model_module": "@jupyter-widgets/base",
      "_model_module_version": "1.2.0",
      "_model_name": "LayoutModel",
      "_view_count": null,
      "_view_module": "@jupyter-widgets/base",
      "_view_module_version": "1.2.0",
      "_view_name": "LayoutView",
      "align_content": null,
      "align_items": null,
      "align_self": null,
      "border": null,
      "bottom": null,
      "display": null,
      "flex": null,
      "flex_flow": null,
      "grid_area": null,
      "grid_auto_columns": null,
      "grid_auto_flow": null,
      "grid_auto_rows": null,
      "grid_column": null,
      "grid_gap": null,
      "grid_row": null,
      "grid_template_areas": null,
      "grid_template_columns": null,
      "grid_template_rows": null,
      "height": null,
      "justify_content": null,
      "justify_items": null,
      "left": null,
      "margin": null,
      "max_height": null,
      "max_width": null,
      "min_height": null,
      "min_width": null,
      "object_fit": null,
      "object_position": null,
      "order": null,
      "overflow": null,
      "overflow_x": null,
      "overflow_y": null,
      "padding": null,
      "right": null,
      "top": null,
      "visibility": null,
      "width": null
     }
    },
    "95a89ac1b6924365b4bccff08a482f49": {
     "model_module": "@jupyter-widgets/controls",
     "model_module_version": "1.5.0",
     "model_name": "FloatProgressModel",
     "state": {
      "_dom_classes": [],
      "_model_module": "@jupyter-widgets/controls",
      "_model_module_version": "1.5.0",
      "_model_name": "FloatProgressModel",
      "_view_count": null,
      "_view_module": "@jupyter-widgets/controls",
      "_view_module_version": "1.5.0",
      "_view_name": "ProgressView",
      "bar_style": "success",
      "description": "",
      "description_tooltip": null,
      "layout": "IPY_MODEL_db781734b9984ade9318d80c0a70eb5d",
      "max": 5000,
      "min": 0,
      "orientation": "horizontal",
      "style": "IPY_MODEL_608345d3c72442538d04f01665b690e9",
      "value": 5000
     }
    },
    "973fca2dd29b4e0881bace37d1eca805": {
     "model_module": "@jupyter-widgets/controls",
     "model_module_version": "1.5.0",
     "model_name": "HTMLModel",
     "state": {
      "_dom_classes": [],
      "_model_module": "@jupyter-widgets/controls",
      "_model_module_version": "1.5.0",
      "_model_name": "HTMLModel",
      "_view_count": null,
      "_view_module": "@jupyter-widgets/controls",
      "_view_module_version": "1.5.0",
      "_view_name": "HTMLView",
      "description": "",
      "description_tooltip": null,
      "layout": "IPY_MODEL_9ded00ca570047ed9d9b6f7f120982ff",
      "placeholder": "​",
      "style": "IPY_MODEL_0c091879d3ba48edb9b762aff8c5cd92",
      "value": "NN training: 100%"
     }
    },
    "979bb47d6beb4f3ba39930094adabb8e": {
     "model_module": "@jupyter-widgets/controls",
     "model_module_version": "1.5.0",
     "model_name": "FloatProgressModel",
     "state": {
      "_dom_classes": [],
      "_model_module": "@jupyter-widgets/controls",
      "_model_module_version": "1.5.0",
      "_model_name": "FloatProgressModel",
      "_view_count": null,
      "_view_module": "@jupyter-widgets/controls",
      "_view_module_version": "1.5.0",
      "_view_name": "ProgressView",
      "bar_style": "success",
      "description": "",
      "description_tooltip": null,
      "layout": "IPY_MODEL_cf8df982c4134fe39681a3d9906fadc8",
      "max": 5000,
      "min": 0,
      "orientation": "horizontal",
      "style": "IPY_MODEL_3acf1cac85e9490483a4ef865289b917",
      "value": 5000
     }
    },
    "98ccbf5dfc0e48d29b21891e60ab6c4c": {
     "model_module": "@jupyter-widgets/base",
     "model_module_version": "1.2.0",
     "model_name": "LayoutModel",
     "state": {
      "_model_module": "@jupyter-widgets/base",
      "_model_module_version": "1.2.0",
      "_model_name": "LayoutModel",
      "_view_count": null,
      "_view_module": "@jupyter-widgets/base",
      "_view_module_version": "1.2.0",
      "_view_name": "LayoutView",
      "align_content": null,
      "align_items": null,
      "align_self": null,
      "border": null,
      "bottom": null,
      "display": null,
      "flex": null,
      "flex_flow": null,
      "grid_area": null,
      "grid_auto_columns": null,
      "grid_auto_flow": null,
      "grid_auto_rows": null,
      "grid_column": null,
      "grid_gap": null,
      "grid_row": null,
      "grid_template_areas": null,
      "grid_template_columns": null,
      "grid_template_rows": null,
      "height": null,
      "justify_content": null,
      "justify_items": null,
      "left": null,
      "margin": null,
      "max_height": null,
      "max_width": null,
      "min_height": null,
      "min_width": null,
      "object_fit": null,
      "object_position": null,
      "order": null,
      "overflow": null,
      "overflow_x": null,
      "overflow_y": null,
      "padding": null,
      "right": null,
      "top": null,
      "visibility": null,
      "width": null
     }
    },
    "9de6ad16dac748058be999dde9ffd367": {
     "model_module": "@jupyter-widgets/controls",
     "model_module_version": "1.5.0",
     "model_name": "HTMLModel",
     "state": {
      "_dom_classes": [],
      "_model_module": "@jupyter-widgets/controls",
      "_model_module_version": "1.5.0",
      "_model_name": "HTMLModel",
      "_view_count": null,
      "_view_module": "@jupyter-widgets/controls",
      "_view_module_version": "1.5.0",
      "_view_name": "HTMLView",
      "description": "",
      "description_tooltip": null,
      "layout": "IPY_MODEL_ab611e839b6e45c985e821d7af6d17fb",
      "placeholder": "​",
      "style": "IPY_MODEL_89b15c11862e4bfda72fcff7ea1e92d1",
      "value": "generating observations: 100%"
     }
    },
    "9ded00ca570047ed9d9b6f7f120982ff": {
     "model_module": "@jupyter-widgets/base",
     "model_module_version": "1.2.0",
     "model_name": "LayoutModel",
     "state": {
      "_model_module": "@jupyter-widgets/base",
      "_model_module_version": "1.2.0",
      "_model_name": "LayoutModel",
      "_view_count": null,
      "_view_module": "@jupyter-widgets/base",
      "_view_module_version": "1.2.0",
      "_view_name": "LayoutView",
      "align_content": null,
      "align_items": null,
      "align_self": null,
      "border": null,
      "bottom": null,
      "display": null,
      "flex": null,
      "flex_flow": null,
      "grid_area": null,
      "grid_auto_columns": null,
      "grid_auto_flow": null,
      "grid_auto_rows": null,
      "grid_column": null,
      "grid_gap": null,
      "grid_row": null,
      "grid_template_areas": null,
      "grid_template_columns": null,
      "grid_template_rows": null,
      "height": null,
      "justify_content": null,
      "justify_items": null,
      "left": null,
      "margin": null,
      "max_height": null,
      "max_width": null,
      "min_height": null,
      "min_width": null,
      "object_fit": null,
      "object_position": null,
      "order": null,
      "overflow": null,
      "overflow_x": null,
      "overflow_y": null,
      "padding": null,
      "right": null,
      "top": null,
      "visibility": null,
      "width": null
     }
    },
    "9fb61e3b0e6949aea6f4a6b7154f4ce0": {
     "model_module": "@jupyter-widgets/controls",
     "model_module_version": "1.5.0",
     "model_name": "HTMLModel",
     "state": {
      "_dom_classes": [],
      "_model_module": "@jupyter-widgets/controls",
      "_model_module_version": "1.5.0",
      "_model_name": "HTMLModel",
      "_view_count": null,
      "_view_module": "@jupyter-widgets/controls",
      "_view_module_version": "1.5.0",
      "_view_name": "HTMLView",
      "description": "",
      "description_tooltip": null,
      "layout": "IPY_MODEL_a4df1248688a4522b24d39639de0c3dd",
      "placeholder": "​",
      "style": "IPY_MODEL_d25593e56677436da0eb4d72a3c18f4e",
      "value": "running EnKF: 100%"
     }
    },
    "a4df1248688a4522b24d39639de0c3dd": {
     "model_module": "@jupyter-widgets/base",
     "model_module_version": "1.2.0",
     "model_name": "LayoutModel",
     "state": {
      "_model_module": "@jupyter-widgets/base",
      "_model_module_version": "1.2.0",
      "_model_name": "LayoutModel",
      "_view_count": null,
      "_view_module": "@jupyter-widgets/base",
      "_view_module_version": "1.2.0",
      "_view_name": "LayoutView",
      "align_content": null,
      "align_items": null,
      "align_self": null,
      "border": null,
      "bottom": null,
      "display": null,
      "flex": null,
      "flex_flow": null,
      "grid_area": null,
      "grid_auto_columns": null,
      "grid_auto_flow": null,
      "grid_auto_rows": null,
      "grid_column": null,
      "grid_gap": null,
      "grid_row": null,
      "grid_template_areas": null,
      "grid_template_columns": null,
      "grid_template_rows": null,
      "height": null,
      "justify_content": null,
      "justify_items": null,
      "left": null,
      "margin": null,
      "max_height": null,
      "max_width": null,
      "min_height": null,
      "min_width": null,
      "object_fit": null,
      "object_position": null,
      "order": null,
      "overflow": null,
      "overflow_x": null,
      "overflow_y": null,
      "padding": null,
      "right": null,
      "top": null,
      "visibility": null,
      "width": null
     }
    },
    "ab611e839b6e45c985e821d7af6d17fb": {
     "model_module": "@jupyter-widgets/base",
     "model_module_version": "1.2.0",
     "model_name": "LayoutModel",
     "state": {
      "_model_module": "@jupyter-widgets/base",
      "_model_module_version": "1.2.0",
      "_model_name": "LayoutModel",
      "_view_count": null,
      "_view_module": "@jupyter-widgets/base",
      "_view_module_version": "1.2.0",
      "_view_name": "LayoutView",
      "align_content": null,
      "align_items": null,
      "align_self": null,
      "border": null,
      "bottom": null,
      "display": null,
      "flex": null,
      "flex_flow": null,
      "grid_area": null,
      "grid_auto_columns": null,
      "grid_auto_flow": null,
      "grid_auto_rows": null,
      "grid_column": null,
      "grid_gap": null,
      "grid_row": null,
      "grid_template_areas": null,
      "grid_template_columns": null,
      "grid_template_rows": null,
      "height": null,
      "justify_content": null,
      "justify_items": null,
      "left": null,
      "margin": null,
      "max_height": null,
      "max_width": null,
      "min_height": null,
      "min_width": null,
      "object_fit": null,
      "object_position": null,
      "order": null,
      "overflow": null,
      "overflow_x": null,
      "overflow_y": null,
      "padding": null,
      "right": null,
      "top": null,
      "visibility": null,
      "width": null
     }
    },
    "ada68873de254113a3534c1154e0347b": {
     "model_module": "@jupyter-widgets/base",
     "model_module_version": "1.2.0",
     "model_name": "LayoutModel",
     "state": {
      "_model_module": "@jupyter-widgets/base",
      "_model_module_version": "1.2.0",
      "_model_name": "LayoutModel",
      "_view_count": null,
      "_view_module": "@jupyter-widgets/base",
      "_view_module_version": "1.2.0",
      "_view_name": "LayoutView",
      "align_content": null,
      "align_items": null,
      "align_self": null,
      "border": null,
      "bottom": null,
      "display": null,
      "flex": null,
      "flex_flow": null,
      "grid_area": null,
      "grid_auto_columns": null,
      "grid_auto_flow": null,
      "grid_auto_rows": null,
      "grid_column": null,
      "grid_gap": null,
      "grid_row": null,
      "grid_template_areas": null,
      "grid_template_columns": null,
      "grid_template_rows": null,
      "height": null,
      "justify_content": null,
      "justify_items": null,
      "left": null,
      "margin": null,
      "max_height": null,
      "max_width": null,
      "min_height": null,
      "min_width": null,
      "object_fit": null,
      "object_position": null,
      "order": null,
      "overflow": null,
      "overflow_x": null,
      "overflow_y": null,
      "padding": null,
      "right": null,
      "top": null,
      "visibility": null,
      "width": null
     }
    },
    "b0e7cc4350bf4ed3ac85b424eabab9f8": {
     "model_module": "@jupyter-widgets/base",
     "model_module_version": "1.2.0",
     "model_name": "LayoutModel",
     "state": {
      "_model_module": "@jupyter-widgets/base",
      "_model_module_version": "1.2.0",
      "_model_name": "LayoutModel",
      "_view_count": null,
      "_view_module": "@jupyter-widgets/base",
      "_view_module_version": "1.2.0",
      "_view_name": "LayoutView",
      "align_content": null,
      "align_items": null,
      "align_self": null,
      "border": null,
      "bottom": null,
      "display": null,
      "flex": null,
      "flex_flow": null,
      "grid_area": null,
      "grid_auto_columns": null,
      "grid_auto_flow": null,
      "grid_auto_rows": null,
      "grid_column": null,
      "grid_gap": null,
      "grid_row": null,
      "grid_template_areas": null,
      "grid_template_columns": null,
      "grid_template_rows": null,
      "height": null,
      "justify_content": null,
      "justify_items": null,
      "left": null,
      "margin": null,
      "max_height": null,
      "max_width": null,
      "min_height": null,
      "min_width": null,
      "object_fit": null,
      "object_position": null,
      "order": null,
      "overflow": null,
      "overflow_x": null,
      "overflow_y": null,
      "padding": null,
      "right": null,
      "top": null,
      "visibility": null,
      "width": null
     }
    },
    "c0e73a04cfd24537921109d7d648dbf5": {
     "model_module": "@jupyter-widgets/controls",
     "model_module_version": "1.5.0",
     "model_name": "DescriptionStyleModel",
     "state": {
      "_model_module": "@jupyter-widgets/controls",
      "_model_module_version": "1.5.0",
      "_model_name": "DescriptionStyleModel",
      "_view_count": null,
      "_view_module": "@jupyter-widgets/base",
      "_view_module_version": "1.2.0",
      "_view_name": "StyleView",
      "description_width": ""
     }
    },
    "cb7abe9177294838930daa210455aef3": {
     "model_module": "@jupyter-widgets/base",
     "model_module_version": "1.2.0",
     "model_name": "LayoutModel",
     "state": {
      "_model_module": "@jupyter-widgets/base",
      "_model_module_version": "1.2.0",
      "_model_name": "LayoutModel",
      "_view_count": null,
      "_view_module": "@jupyter-widgets/base",
      "_view_module_version": "1.2.0",
      "_view_name": "LayoutView",
      "align_content": null,
      "align_items": null,
      "align_self": null,
      "border": null,
      "bottom": null,
      "display": null,
      "flex": null,
      "flex_flow": null,
      "grid_area": null,
      "grid_auto_columns": null,
      "grid_auto_flow": null,
      "grid_auto_rows": null,
      "grid_column": null,
      "grid_gap": null,
      "grid_row": null,
      "grid_template_areas": null,
      "grid_template_columns": null,
      "grid_template_rows": null,
      "height": null,
      "justify_content": null,
      "justify_items": null,
      "left": null,
      "margin": null,
      "max_height": null,
      "max_width": null,
      "min_height": null,
      "min_width": null,
      "object_fit": null,
      "object_position": null,
      "order": null,
      "overflow": null,
      "overflow_x": null,
      "overflow_y": null,
      "padding": null,
      "right": null,
      "top": null,
      "visibility": null,
      "width": null
     }
    },
    "cf8df982c4134fe39681a3d9906fadc8": {
     "model_module": "@jupyter-widgets/base",
     "model_module_version": "1.2.0",
     "model_name": "LayoutModel",
     "state": {
      "_model_module": "@jupyter-widgets/base",
      "_model_module_version": "1.2.0",
      "_model_name": "LayoutModel",
      "_view_count": null,
      "_view_module": "@jupyter-widgets/base",
      "_view_module_version": "1.2.0",
      "_view_name": "LayoutView",
      "align_content": null,
      "align_items": null,
      "align_self": null,
      "border": null,
      "bottom": null,
      "display": null,
      "flex": null,
      "flex_flow": null,
      "grid_area": null,
      "grid_auto_columns": null,
      "grid_auto_flow": null,
      "grid_auto_rows": null,
      "grid_column": null,
      "grid_gap": null,
      "grid_row": null,
      "grid_template_areas": null,
      "grid_template_columns": null,
      "grid_template_rows": null,
      "height": null,
      "justify_content": null,
      "justify_items": null,
      "left": null,
      "margin": null,
      "max_height": null,
      "max_width": null,
      "min_height": null,
      "min_width": null,
      "object_fit": null,
      "object_position": null,
      "order": null,
      "overflow": null,
      "overflow_x": null,
      "overflow_y": null,
      "padding": null,
      "right": null,
      "top": null,
      "visibility": null,
      "width": null
     }
    },
    "d25593e56677436da0eb4d72a3c18f4e": {
     "model_module": "@jupyter-widgets/controls",
     "model_module_version": "1.5.0",
     "model_name": "DescriptionStyleModel",
     "state": {
      "_model_module": "@jupyter-widgets/controls",
      "_model_module_version": "1.5.0",
      "_model_name": "DescriptionStyleModel",
      "_view_count": null,
      "_view_module": "@jupyter-widgets/base",
      "_view_module_version": "1.2.0",
      "_view_name": "StyleView",
      "description_width": ""
     }
    },
    "d6c6b760b1cc472dbd2df015c2c3efa9": {
     "model_module": "@jupyter-widgets/controls",
     "model_module_version": "1.5.0",
     "model_name": "DescriptionStyleModel",
     "state": {
      "_model_module": "@jupyter-widgets/controls",
      "_model_module_version": "1.5.0",
      "_model_name": "DescriptionStyleModel",
      "_view_count": null,
      "_view_module": "@jupyter-widgets/base",
      "_view_module_version": "1.2.0",
      "_view_name": "StyleView",
      "description_width": ""
     }
    },
    "d6dc2ba5f0a14b248c56e3fe88e94c3c": {
     "model_module": "@jupyter-widgets/controls",
     "model_module_version": "1.5.0",
     "model_name": "DescriptionStyleModel",
     "state": {
      "_model_module": "@jupyter-widgets/controls",
      "_model_module_version": "1.5.0",
      "_model_name": "DescriptionStyleModel",
      "_view_count": null,
      "_view_module": "@jupyter-widgets/base",
      "_view_module_version": "1.2.0",
      "_view_name": "StyleView",
      "description_width": ""
     }
    },
    "da7f410b46fa4574adf21b5b7c1be74d": {
     "model_module": "@jupyter-widgets/controls",
     "model_module_version": "1.5.0",
     "model_name": "ProgressStyleModel",
     "state": {
      "_model_module": "@jupyter-widgets/controls",
      "_model_module_version": "1.5.0",
      "_model_name": "ProgressStyleModel",
      "_view_count": null,
      "_view_module": "@jupyter-widgets/base",
      "_view_module_version": "1.2.0",
      "_view_name": "StyleView",
      "bar_color": null,
      "description_width": ""
     }
    },
    "db781734b9984ade9318d80c0a70eb5d": {
     "model_module": "@jupyter-widgets/base",
     "model_module_version": "1.2.0",
     "model_name": "LayoutModel",
     "state": {
      "_model_module": "@jupyter-widgets/base",
      "_model_module_version": "1.2.0",
      "_model_name": "LayoutModel",
      "_view_count": null,
      "_view_module": "@jupyter-widgets/base",
      "_view_module_version": "1.2.0",
      "_view_name": "LayoutView",
      "align_content": null,
      "align_items": null,
      "align_self": null,
      "border": null,
      "bottom": null,
      "display": null,
      "flex": null,
      "flex_flow": null,
      "grid_area": null,
      "grid_auto_columns": null,
      "grid_auto_flow": null,
      "grid_auto_rows": null,
      "grid_column": null,
      "grid_gap": null,
      "grid_row": null,
      "grid_template_areas": null,
      "grid_template_columns": null,
      "grid_template_rows": null,
      "height": null,
      "justify_content": null,
      "justify_items": null,
      "left": null,
      "margin": null,
      "max_height": null,
      "max_width": null,
      "min_height": null,
      "min_width": null,
      "object_fit": null,
      "object_position": null,
      "order": null,
      "overflow": null,
      "overflow_x": null,
      "overflow_y": null,
      "padding": null,
      "right": null,
      "top": null,
      "visibility": null,
      "width": null
     }
    },
    "ddb4dc44dafc4f7ab81ee0be4bd36d29": {
     "model_module": "@jupyter-widgets/controls",
     "model_module_version": "1.5.0",
     "model_name": "HTMLModel",
     "state": {
      "_dom_classes": [],
      "_model_module": "@jupyter-widgets/controls",
      "_model_module_version": "1.5.0",
      "_model_name": "HTMLModel",
      "_view_count": null,
      "_view_module": "@jupyter-widgets/controls",
      "_view_module_version": "1.5.0",
      "_view_name": "HTMLView",
      "description": "",
      "description_tooltip": null,
      "layout": "IPY_MODEL_b0e7cc4350bf4ed3ac85b424eabab9f8",
      "placeholder": "​",
      "style": "IPY_MODEL_3f80dd8cc17842b0b542dffa7d0b1f8b",
      "value": " 500/500 [00:00&lt;00:00, 2675.46it/s]"
     }
    },
    "e48505496f2142ecac7cc2f43105dfe2": {
     "model_module": "@jupyter-widgets/controls",
     "model_module_version": "1.5.0",
     "model_name": "FloatProgressModel",
     "state": {
      "_dom_classes": [],
      "_model_module": "@jupyter-widgets/controls",
      "_model_module_version": "1.5.0",
      "_model_name": "FloatProgressModel",
      "_view_count": null,
      "_view_module": "@jupyter-widgets/controls",
      "_view_module_version": "1.5.0",
      "_view_name": "ProgressView",
      "bar_style": "success",
      "description": "",
      "description_tooltip": null,
      "layout": "IPY_MODEL_2265c62e2c654e25a51d7bba6d6744f9",
      "max": 12000,
      "min": 0,
      "orientation": "horizontal",
      "style": "IPY_MODEL_6887d263554c4ce2a3e629693d29825b",
      "value": 12000
     }
    },
    "ea90e17d28754b61970391b99450da70": {
     "model_module": "@jupyter-widgets/controls",
     "model_module_version": "1.5.0",
     "model_name": "HBoxModel",
     "state": {
      "_dom_classes": [],
      "_model_module": "@jupyter-widgets/controls",
      "_model_module_version": "1.5.0",
      "_model_name": "HBoxModel",
      "_view_count": null,
      "_view_module": "@jupyter-widgets/controls",
      "_view_module_version": "1.5.0",
      "_view_name": "HBoxView",
      "box_style": "",
      "children": [
       "IPY_MODEL_9de6ad16dac748058be999dde9ffd367",
       "IPY_MODEL_979bb47d6beb4f3ba39930094adabb8e",
       "IPY_MODEL_f0c6e5f86cd4441e8c299e4bd01515fc"
      ],
      "layout": "IPY_MODEL_9315aadffe264b1a89bddc22ed186249"
     }
    },
    "ec55d4f2783d4264a14534273656a4a5": {
     "model_module": "@jupyter-widgets/controls",
     "model_module_version": "1.5.0",
     "model_name": "ProgressStyleModel",
     "state": {
      "_model_module": "@jupyter-widgets/controls",
      "_model_module_version": "1.5.0",
      "_model_name": "ProgressStyleModel",
      "_view_count": null,
      "_view_module": "@jupyter-widgets/base",
      "_view_module_version": "1.2.0",
      "_view_name": "StyleView",
      "bar_color": null,
      "description_width": ""
     }
    },
    "f0c6e5f86cd4441e8c299e4bd01515fc": {
     "model_module": "@jupyter-widgets/controls",
     "model_module_version": "1.5.0",
     "model_name": "HTMLModel",
     "state": {
      "_dom_classes": [],
      "_model_module": "@jupyter-widgets/controls",
      "_model_module_version": "1.5.0",
      "_model_name": "HTMLModel",
      "_view_count": null,
      "_view_module": "@jupyter-widgets/controls",
      "_view_module_version": "1.5.0",
      "_view_name": "HTMLView",
      "description": "",
      "description_tooltip": null,
      "layout": "IPY_MODEL_ada68873de254113a3534c1154e0347b",
      "placeholder": "​",
      "style": "IPY_MODEL_d6dc2ba5f0a14b248c56e3fe88e94c3c",
      "value": " 5000/5000 [00:00&lt;00:00, 17815.67it/s]"
     }
    },
    "f8cab4150ab040aeb033f64745faad74": {
     "model_module": "@jupyter-widgets/controls",
     "model_module_version": "1.5.0",
     "model_name": "HTMLModel",
     "state": {
      "_dom_classes": [],
      "_model_module": "@jupyter-widgets/controls",
      "_model_module_version": "1.5.0",
      "_model_name": "HTMLModel",
      "_view_count": null,
      "_view_module": "@jupyter-widgets/controls",
      "_view_module_version": "1.5.0",
      "_view_name": "HTMLView",
      "description": "",
      "description_tooltip": null,
      "layout": "IPY_MODEL_675634702dbb4e31ba310b6cfb154ab6",
      "placeholder": "​",
      "style": "IPY_MODEL_c0e73a04cfd24537921109d7d648dbf5",
      "value": " 5000/5000 [01:04&lt;00:00, 110.97it/s, rmse=0.200 spreadx=0.205 rmsei=2.714 infl=1.000 beta=1.157 nu=5100.000]"
     }
    },
    "f966d3ecfee44e5cacdedcd292c4c6b0": {
     "model_module": "@jupyter-widgets/base",
     "model_module_version": "1.2.0",
     "model_name": "LayoutModel",
     "state": {
      "_model_module": "@jupyter-widgets/base",
      "_model_module_version": "1.2.0",
      "_model_name": "LayoutModel",
      "_view_count": null,
      "_view_module": "@jupyter-widgets/base",
      "_view_module_version": "1.2.0",
      "_view_name": "LayoutView",
      "align_content": null,
      "align_items": null,
      "align_self": null,
      "border": null,
      "bottom": null,
      "display": null,
      "flex": null,
      "flex_flow": null,
      "grid_area": null,
      "grid_auto_columns": null,
      "grid_auto_flow": null,
      "grid_auto_rows": null,
      "grid_column": null,
      "grid_gap": null,
      "grid_row": null,
      "grid_template_areas": null,
      "grid_template_columns": null,
      "grid_template_rows": null,
      "height": null,
      "justify_content": null,
      "justify_items": null,
      "left": null,
      "margin": null,
      "max_height": null,
      "max_width": null,
      "min_height": null,
      "min_width": null,
      "object_fit": null,
      "object_position": null,
      "order": null,
      "overflow": null,
      "overflow_x": null,
      "overflow_y": null,
      "padding": null,
      "right": null,
      "top": null,
      "visibility": null,
      "width": null
     }
    },
    "ffb331998a1d41cd8132263b449c68b9": {
     "model_module": "@jupyter-widgets/controls",
     "model_module_version": "1.5.0",
     "model_name": "HTMLModel",
     "state": {
      "_dom_classes": [],
      "_model_module": "@jupyter-widgets/controls",
      "_model_module_version": "1.5.0",
      "_model_name": "HTMLModel",
      "_view_count": null,
      "_view_module": "@jupyter-widgets/controls",
      "_view_module_version": "1.5.0",
      "_view_name": "HTMLView",
      "description": "",
      "description_tooltip": null,
      "layout": "IPY_MODEL_320eba1b9795450db713503c124ef4c8",
      "placeholder": "​",
      "style": "IPY_MODEL_35b724c3fb1f4517ae9e33f151b578e9",
      "value": "true model integration: 100%"
     }
    }
   }
  }
 },
 "nbformat": 4,
 "nbformat_minor": 5
}
