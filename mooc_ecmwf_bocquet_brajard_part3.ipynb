{
 "cells": [
  {
   "cell_type": "markdown",
   "id": "9-zHo1vTl3_H",
   "metadata": {
    "id": "9-zHo1vTl3_H"
   },
   "source": [
    "## <span style=\"color:blue\"> Before you start, if you run on colab </span>...\n",
    "On colab, each notebook runs on its own environment, so you first need to run the following cell in order to download all the repository and to run the notebook part 1 and part 2.\n",
    "\n",
    "**Advice:** If it is not done, don't forget to change the Runtime type into \"GPU\" so to speed up the computations.\n",
    "\n"
   ]
  },
  {
   "cell_type": "code",
   "execution_count": null,
   "id": "V3ltjONKl5Wf",
   "metadata": {
    "colab": {
     "base_uri": "https://localhost:8080/"
    },
    "id": "V3ltjONKl5Wf",
    "outputId": "aa730497-4e5e-40b4-e22c-b886d4cb7167"
   },
   "outputs": [],
   "source": [
    "# First run configuration for colab\n",
    "import sys\n",
    "IN_COLAB = 'google.colab' in sys.modules\n",
    "if IN_COLAB:\n",
    "    import os\n",
    "    print('Colab detected')\n",
    "    if os.path.isdir('2022-mooc-ecmwf-bocquet-brajard'):\n",
    "      %cd 2022-mooc-ecmwf-bocquet-brajard/\n",
    "    if not os.path.isfile('mooc_ecmwf_bocquet_brajard_part1.ipynb'):\n",
    "      \n",
    "      # Clone the git repository\n",
    "      !git clone https://github.com/marcbocquet/2022-mooc-ecmwf-bocquet-brajard.git\n",
    "\n",
    "      # Make the repository as working directory\n",
    "      %cd 2022-mooc-ecmwf-bocquet-brajard/\n",
    "\n",
    "    if not os.path.isfile('Output/xt.npy'):\n",
    "\n",
    "      # Run the notebook part 1\n",
    "      %run mooc_ecmwf_bocquet_brajard_part1.ipynb\n",
    "\n",
    "    if not os.path.isfile('Output/damodel_scalerx'):\n",
    "      %run mooc_ecmwf_bocquet_brajard_part2.ipynb"
   ]
  },
  {
   "cell_type": "markdown",
   "id": "bc6d261f",
   "metadata": {
    "id": "bc6d261f"
   },
   "source": [
    "# <span style=\"color:maroon\"> Data assimilation, machine learning, and dynamical systems - Part III  </span>\n",
    "#### Marc Bocquet¹ [marc.bocquet@enpc.fr](mailto:marc.bocquet@enpc.fr) and Julien Brajard² [julien.brajard@nersc.no](mailto:julien.brajard@nersc.no)\n",
    "#### (1) CEREA, École des Ponts et EdF R&D, Île-de-France, France\n",
    "#### (2) Nansen Center (NERSC), Bergen, Norway\n",
    "\n",
    "During this session, we will discover some connections between data assimilation and deep learning when applied to dynamical systems.\n",
    "\n",
    "# <span style=\"color:teal\"> Third step: Building and testing the hybrid model.</span>\n",
    "\n",
    "In this notebook, we will use the neural network trained in the part 2 to build an **hybrid model**\n",
    "When doing a forecast avec a time step $dt$, this idea is simply to sum the forecast of the physical model $\\Phi$ and the output of the neural network $\\mathrm{nn}$ such as:\n",
    "$$\n",
    "\\mathbf{x}^{\\rm f}_k = \\Phi(\\mathbf{x}_{k-1}) + \\mathrm{nn}(\\mathbf{x}_{k-1})\n",
    "$$\n",
    "\n",
    "In the following, we will test the forecast error of the hybrid model against the true model. We will compare the forecast error of the physical model and one of the physical model. Again, we should highlight that in a \"real-world\" case, the truth is not known and such a test cannot be computed the same way. In such cases when the truth is not known, observations can also be used, which come with additional challenges out of the scope of this module.\n",
    "\n",
    "To test the hybrid and the physical model:\n",
    "1. we compute a new simulation using the true model\n",
    "2. From $m$ states distributed across the simulation, we genere $m$ initial conditions.\n",
    "3. We compute $m$ forecast using either the physical model or the hybrid model starting from the $m$ initial conditions over a time of $T^{\\rm test}$\n",
    "4. We compute the error of each of the $m$ forecasts and compute the average for each lead time\n",
    "\n",
    "<p align = \"center\">\n",
    "<img src=\"https://github.com/marcbocquet/2022-mooc-ecmwf-bocquet-brajard/blob/colab/Figures/scheme-test.png?raw=1\" alt=\"Forecast skill test\" width=\"600\"/>\n",
    "</p>\n",
    "\n",
    "## <span style=\"color:blue\"> I. Build the test dataset </span>\n",
    "We first start the test dataset. We use the last time step of the previous simulation as an initial condition for this simulation. Note that these data are completely new as they have been neither assimilated nor used in the training of the neural network. Hence, it is a proper independent test dataset."
   ]
  },
  {
   "cell_type": "code",
   "execution_count": null,
   "id": "3d1bc00e-b1e9-496f-9efb-b3acb6d22cc6",
   "metadata": {
    "id": "3d1bc00e-b1e9-496f-9efb-b3acb6d22cc6"
   },
   "outputs": [],
   "source": [
    "# Import standard modules\n",
    "\n",
    "import pathlib\n",
    "import seaborn as sns\n",
    "from matplotlib import pyplot as plt\n",
    "import numpy as np\n",
    "from tqdm.notebook import trange, tqdm\n",
    "\n",
    "\n",
    "# Folder for results\n",
    "folder = dict(output = pathlib.Path(\"./Output\"))\n",
    "\n",
    "# For plot customisation\n",
    "sns.set_context('notebook')\n",
    "sns.set_style('darkgrid')\n",
    "plt.rc('axes', linewidth=1)\n",
    "plt.rc('axes', edgecolor='k')\n",
    "plt.rc('figure', dpi=100)\n",
    "palette = sns.color_palette('deep')"
   ]
  },
  {
   "cell_type": "code",
   "execution_count": null,
   "id": "c4486d96-6946-4fc9-bcc6-62c423cad1c3",
   "metadata": {
    "id": "c4486d96-6946-4fc9-bcc6-62c423cad1c3"
   },
   "outputs": [],
   "source": [
    "# Load the previous true simulation (only used to provide the initial conditions of the new simulation)\n",
    "xt = np.load(folder['output'] / 'xt.npy')\n"
   ]
  },
  {
   "cell_type": "markdown",
   "id": "e40bc072-b3bd-483e-896b-9f50473d60a9",
   "metadata": {
    "id": "e40bc072-b3bd-483e-896b-9f50473d60a9"
   },
   "source": [
    "Here we define the true model.\n",
    "\n",
    "**Be careful**: the parameters here should be the same as the one defined in the first part for the true model."
   ]
  },
  {
   "cell_type": "code",
   "execution_count": null,
   "id": "f544ca15-a87c-47ac-9cc3-8526e99795d8",
   "metadata": {
    "id": "f544ca15-a87c-47ac-9cc3-8526e99795d8"
   },
   "outputs": [],
   "source": [
    "from Model.lorenz96_cubic import l96cb\n",
    "\n",
    "Nx = 40\n",
    "dt = 0.05\n",
    "F = 8.5\n",
    "diffusion = 0.025\n",
    "friction = 1.01\n",
    "tmodel = l96cb(Nx, dt, F, diffusion, friction)"
   ]
  },
  {
   "cell_type": "markdown",
   "id": "70018e2e-6f1d-4bde-9bfa-27f495785057",
   "metadata": {
    "id": "70018e2e-6f1d-4bde-9bfa-27f495785057"
   },
   "source": [
    "The true model is integrated to generate the test dataset:\n"
   ]
  },
  {
   "cell_type": "code",
   "execution_count": null,
   "id": "d29e2ff4-8377-4b18-83ab-c3fe317858d7",
   "metadata": {
    "colab": {
     "base_uri": "https://localhost:8080/",
     "height": 66,
     "referenced_widgets": [
      "8047a7bd7b284e4784c5eac5e41aae20",
      "ede1655ee57940e38364f26d1cf9925d",
      "2907b6cc96d74f838f1bfab302a47d5a",
      "08dc57db1af44a2ba2a95ed9e559fc59",
      "d6c34f914f06497b8a2bba069d018ecb",
      "fbb4f62974754e4e82a7c8b443cca959",
      "eccde61dbeee47b894792047db572667",
      "ef33915abe5647a2b00a0590f2bd366a",
      "d6d19bfa3e1e428b9e5ebc9dac384917",
      "39e14303dfc044a8a5336c8176a9ede1",
      "4a60310d71a14ab681c5ce01e9f22a7b"
     ]
    },
    "id": "d29e2ff4-8377-4b18-83ab-c3fe317858d7",
    "outputId": "8f2b5938-cf36-4704-af09-b934ddbba806"
   },
   "outputs": [],
   "source": [
    "# Number of time step:\n",
    "Nt_test = 20000 \n",
    "\n",
    "# Size of the space:\n",
    "Nx = xt.shape[1]\n",
    "\n",
    "xtest = np.zeros((Nt_test, Nx))\n",
    "\n",
    "# Initialize the test dataset with the last time step of the previous simulation:\n",
    "xtest[0] = xt[-1] \n",
    "\n",
    "for t in trange(1, Nt_test, desc='test model integration'):\n",
    "    xtest[t] = xtest[t-1] + tmodel(xtest[t-1])\n",
    "    \n",
    "print(f'Shape (number of samples, number of features) of the test dataset: {xtest.shape}')\n"
   ]
  },
  {
   "cell_type": "markdown",
   "id": "57b387fe-3317-4235-a76b-fafa11e355de",
   "metadata": {
    "id": "57b387fe-3317-4235-a76b-fafa11e355de"
   },
   "source": [
    "Now the dataset is reshaped so to have $m$ (`m`) initial conditions over a time of $T^{\\rm test}$ (`T_test`)"
   ]
  },
  {
   "cell_type": "code",
   "execution_count": null,
   "id": "19f307cc-7ffd-40cb-8348-3556e200d7d0",
   "metadata": {
    "colab": {
     "base_uri": "https://localhost:8080/"
    },
    "id": "19f307cc-7ffd-40cb-8348-3556e200d7d0",
    "outputId": "089d87d8-dd7f-46bf-f70e-88c62466b76c"
   },
   "outputs": [],
   "source": [
    "Nt_forecast = 400\n",
    "T_test = Nt_forecast*dt\n",
    "\n",
    "Xtest = xtest.reshape(-1, Nt_forecast, Nx)\n",
    "m = Xtest.shape[0]\n",
    "\n",
    "print(f'The test dataset is composed of {m} simulations of {T_test} MTU.')"
   ]
  },
  {
   "cell_type": "markdown",
   "id": "20a86fba-5599-4d81-b1b6-48086f687fd8",
   "metadata": {
    "id": "20a86fba-5599-4d81-b1b6-48086f687fd8"
   },
   "source": [
    "## <span style=\"color:blue\"> II. Define the hybrid model </span>\n",
    "We construct the hybrid model by loading the weights optimised in part 2 of this module. The objective of this module is to use the analysis for the training. But if you have tested to learn o uncomment the line `learning = 'truth'`"
   ]
  },
  {
   "cell_type": "code",
   "execution_count": null,
   "id": "e161f889-14e4-4bca-83f3-551650a046f3",
   "metadata": {
    "id": "e161f889-14e4-4bca-83f3-551650a046f3"
   },
   "outputs": [],
   "source": [
    "learning = 'analysis'\n",
    "#learning = 'truth'\n",
    "\n",
    "if learning=='analysis':\n",
    "    name = 'damodel'\n",
    "else:\n",
    "    name = 'true_model'\n"
   ]
  },
  {
   "cell_type": "code",
   "execution_count": null,
   "id": "d0727933-ddf2-4c25-a171-6694189bbfa5",
   "metadata": {
    "id": "d0727933-ddf2-4c25-a171-6694189bbfa5"
   },
   "outputs": [],
   "source": [
    "# Name of the model saved in part 2.\n",
    "saved_model = folder['output'] / name"
   ]
  },
  {
   "cell_type": "markdown",
   "id": "77ef03ef-4e8b-4f2d-b23e-537cdcbaa6ba",
   "metadata": {
    "id": "77ef03ef-4e8b-4f2d-b23e-537cdcbaa6ba"
   },
   "source": [
    "**Be careful**: the parameters of the physical should be the same as the one defined in the first part for the physical model."
   ]
  },
  {
   "cell_type": "code",
   "execution_count": null,
   "id": "ae5d307f-be41-46ae-95f8-32582fb4a094",
   "metadata": {
    "id": "ae5d307f-be41-46ae-95f8-32582fb4a094"
   },
   "outputs": [],
   "source": [
    "from Model.neuralnet import l96hybrid\n",
    "from Model.lorenz96 import l96\n",
    "\n",
    "Nx = 40\n",
    "dt = 0.05\n",
    "F = 8\n",
    "phi = l96(Nx, dt, F)\n",
    "hyb_model = l96hybrid(Nx=Nx, dt=dt, F=F, saved_model=saved_model)"
   ]
  },
  {
   "cell_type": "markdown",
   "id": "9dd246c2-4442-48c7-8251-4f6b9947ddf5",
   "metadata": {
    "id": "9dd246c2-4442-48c7-8251-4f6b9947ddf5"
   },
   "source": [
    "## <span style=\"color:blue\"> III. Run both the physical and the hybrid model </span>\n",
    "The physical and the hybrid models are integrated taking the initial conditions from the test dataset:"
   ]
  },
  {
   "cell_type": "code",
   "execution_count": null,
   "id": "69e4d0f7-0d1b-49b4-956c-92d822cbe941",
   "metadata": {
    "colab": {
     "base_uri": "https://localhost:8080/",
     "height": 84,
     "referenced_widgets": [
      "6afa11af6320499ab89043c82e6ff508",
      "d21a270e6d4e49dfa6b320e4a4e7394c",
      "b4044804487a4132bbacfb09ea292f81",
      "034e6963c9df455ca58d7ec5be490bdd",
      "71d0a5a9668d4ebcbe44cc4513fe67d7",
      "c06ce75c84d544c3ae539949b455faeb",
      "886ef8908f5a45b7a742485eb9ad96e8",
      "a1d1491c2f58473e81796cac1b866221",
      "94d18374f1fb4a0589b51a5329d18c8c",
      "ca324ac844524059b7f9ae11923d16c1",
      "dc57899a6ec94fe79b066ccb16cd2c30"
     ]
    },
    "id": "69e4d0f7-0d1b-49b4-956c-92d822cbe941",
    "outputId": "24791a27-2385-4276-fd5b-13af59f4fd1e"
   },
   "outputs": [],
   "source": [
    "xphi = np.zeros_like(Xtest)\n",
    "xphi[:,0] = Xtest[:,0]\n",
    "for t in trange(1, Nt_forecast, desc='physical model integration'):\n",
    "    xphi[:,t] = xphi[:,t-1] + phi(xphi[:,t-1])\n",
    "    \n",
    "print(f'Shape of the physical simulation: {xphi.shape}')\n",
    "print('(number of initial conditions, number of forecast time steps, number of features) ')"
   ]
  },
  {
   "cell_type": "code",
   "execution_count": null,
   "id": "fe6ad2ad-3579-45bd-80d2-09869c5a84ff",
   "metadata": {
    "colab": {
     "base_uri": "https://localhost:8080/",
     "height": 84,
     "referenced_widgets": [
      "9a7e4a4900d2477a8782e47a7467835c",
      "ad3e8d97aa6e416a96361a58cb6ffa0c",
      "6318dcb8a16b47ec9b5e053146656026",
      "df738a46e6d54e848270bafbca945dbc",
      "48bbc8466a7d4611bd6cc970cdc03211",
      "d9422c1aaa554f3c932ce40188fcd92c",
      "95d4ad7b9f624c75ab3325453976c004",
      "87cdc121effe44dba538e7ea8ac5cad7",
      "cbd442d872cf40169ea9040661e6d61b",
      "a59c65da907c4a308e23831d930ab545",
      "cf36448de4a04d6ea8a39be2e752ee74"
     ]
    },
    "id": "fe6ad2ad-3579-45bd-80d2-09869c5a84ff",
    "outputId": "5c43c207-0944-4fe9-9891-411631ec0515"
   },
   "outputs": [],
   "source": [
    "xhyb = np.zeros_like(Xtest)\n",
    "xhyb[:,0] = Xtest[:,0]\n",
    "for t in trange(1, Nt_forecast, desc='hybrid model integration'):\n",
    "    xhyb[:,t] = xhyb[:,t-1] + hyb_model(xhyb[:,t-1])\n",
    "    \n",
    "print(f'Shape of the hybrid simulation: {xhyb.shape}')\n",
    "print('(number of initial conditions, number of forecast time steps, number of features) ')"
   ]
  },
  {
   "cell_type": "markdown",
   "id": "73af28b4-be6c-401b-8643-22aa9dc41e03",
   "metadata": {
    "id": "73af28b4-be6c-401b-8643-22aa9dc41e03"
   },
   "source": [
    "On may observe that the hybrid model is significantly slower than the physical model. This is due to the additional cost of running the neural network."
   ]
  },
  {
   "cell_type": "markdown",
   "id": "9ab20d62-5f29-4973-b1a8-7897c95a9852",
   "metadata": {
    "id": "9ab20d62-5f29-4973-b1a8-7897c95a9852"
   },
   "source": [
    "## <span style=\"color:blue\"> IV. Compute and plot the scores </span>\n",
    "First, we take one forecast obtained with one initial condition to assess qualitatively the difference"
   ]
  },
  {
   "cell_type": "code",
   "execution_count": null,
   "id": "bb20d226-0157-4925-b89e-aa6771119cec",
   "metadata": {
    "colab": {
     "base_uri": "https://localhost:8080/",
     "height": 547
    },
    "id": "bb20d226-0157-4925-b89e-aa6771119cec",
    "outputId": "b954d1cd-b811-4f3c-a782-ba53f36729a7"
   },
   "outputs": [],
   "source": [
    "#Plot the true forecast\n",
    "fig = plt.figure(figsize=(18, 6))\n",
    "plt.grid(False)\n",
    "im = plt.imshow(Xtest[2].T, \n",
    "           aspect = 'auto',\n",
    "           origin = 'lower',\n",
    "           interpolation = 'spline36',\n",
    "           cmap = sns.diverging_palette(240, 60, as_cmap=True),\n",
    "           extent = [0, dt*Xtest[2].shape[0], 0, Nx],\n",
    "           vmin = -10,\n",
    "           vmax = 15)\n",
    "plt.colorbar(im)\n",
    "plt.xlabel('Time (MTU)')\n",
    "plt.ylabel('True model variables ')\n",
    "plt.tick_params(direction='out', left=True, bottom=True)\n",
    "plt.show()"
   ]
  },
  {
   "cell_type": "code",
   "execution_count": null,
   "id": "4c1c69af-378e-4b21-bf3d-2cad0462eabf",
   "metadata": {
    "colab": {
     "base_uri": "https://localhost:8080/",
     "height": 547
    },
    "id": "4c1c69af-378e-4b21-bf3d-2cad0462eabf",
    "outputId": "d494c883-576e-48a5-fc98-fbacdc7629ff"
   },
   "outputs": [],
   "source": [
    "#Plot the hybrid forecast\n",
    "fig = plt.figure(figsize=(18, 6))\n",
    "plt.grid(False)\n",
    "im = plt.imshow(xhyb[2].T, \n",
    "           aspect = 'auto',\n",
    "           origin = 'lower',\n",
    "           interpolation = 'spline36',\n",
    "           cmap = sns.diverging_palette(240, 60, as_cmap=True),\n",
    "           extent = [0, dt*Xtest[2].shape[0], 0, Nx],\n",
    "           vmin = -10,\n",
    "           vmax = 15)\n",
    "plt.colorbar(im)\n",
    "plt.xlabel('Time (MTU)')\n",
    "plt.ylabel('Hybrid model variables ')\n",
    "plt.tick_params(direction='out', left=True, bottom=True)\n",
    "plt.show()"
   ]
  },
  {
   "cell_type": "code",
   "execution_count": null,
   "id": "24dce904-db9c-46c1-a2da-f9c0e27341ed",
   "metadata": {
    "colab": {
     "base_uri": "https://localhost:8080/",
     "height": 547
    },
    "id": "24dce904-db9c-46c1-a2da-f9c0e27341ed",
    "outputId": "b9d27290-00df-461a-c4be-eb20a36e54a8"
   },
   "outputs": [],
   "source": [
    "#Plot the physical forecast\n",
    "fig = plt.figure(figsize=(18, 6))\n",
    "plt.grid(False)\n",
    "im = plt.imshow(xphi[2].T, \n",
    "           aspect = 'auto',\n",
    "           origin = 'lower',\n",
    "           interpolation = 'spline36',\n",
    "           cmap = sns.diverging_palette(240, 60, as_cmap=True),\n",
    "           extent = [0, dt*Xtest[2].shape[0], 0, Nx],\n",
    "           vmin = -10,\n",
    "           vmax = 15)\n",
    "plt.colorbar(im)\n",
    "plt.xlabel('Time (MTU)')\n",
    "plt.ylabel('physical model variables ')\n",
    "plt.tick_params(direction='out', left=True, bottom=True)\n",
    "plt.show()"
   ]
  },
  {
   "cell_type": "markdown",
   "id": "8471ceef-cfdb-4412-91ea-20a2bf9474cb",
   "metadata": {
    "id": "8471ceef-cfdb-4412-91ea-20a2bf9474cb"
   },
   "source": [
    "Quantitatively, it is expected that all these simulations, even though they share the same initial conditions, will start diverging from each other after some time. This is due to the chaotic nature of our model. \n",
    "\n",
    "Qualitatively, we can look at the general aspect (the variability) of each of these simulations. The simulations from the truth and the hybrid model are very similar. It is difficult to distinguish which one has been generated by the true model and which one has been generated by the hybrid model. When it comes to the physical model, even though the general variability is very close, we can spot some differences. The physical model has much more small-scale variability than the true model, it looks less regular, more chaotic. It shows that the underlying variability of the physical model is different from the one of the hybrid or true model."
   ]
  },
  {
   "cell_type": "code",
   "execution_count": null,
   "id": "ad4efbd7-12a7-431a-bb1f-99e75c2faa29",
   "metadata": {
    "id": "ad4efbd7-12a7-431a-bb1f-99e75c2faa29"
   },
   "outputs": [],
   "source": [
    "# We compute the RMSE of the physical and of the hybrid model. \n",
    "rmse_phi = np.sqrt(np.mean(np.square(Xtest-xphi),axis=(0,2))/2)\n",
    "rmse_hyb = np.sqrt(np.mean(np.square(Xtest-xhyb),axis=(0,2))/2)\n",
    "mod_var = np.std(xtest)"
   ]
  },
  {
   "cell_type": "markdown",
   "id": "7f9737c4-3135-4349-b5db-ac1cbd7b671a",
   "metadata": {
    "id": "7f9737c4-3135-4349-b5db-ac1cbd7b671a"
   },
   "source": [
    "We have also computed the model variability since the RMSE is expected to converge toward the model variability once the initial condition has been \"forgotten\" (which is due here also to the chaotic nature of the model)."
   ]
  },
  {
   "cell_type": "code",
   "execution_count": null,
   "id": "c18bd988-dbe2-4231-9ead-29d65842674f",
   "metadata": {
    "colab": {
     "base_uri": "https://localhost:8080/",
     "height": 541
    },
    "id": "c18bd988-dbe2-4231-9ead-29d65842674f",
    "outputId": "619f064f-145a-4dc1-c2ce-d15e07e04a2d"
   },
   "outputs": [],
   "source": [
    "fig = plt.figure(figsize=(18, 6))\n",
    "plt.plot(dt*np.arange(Nt_forecast), rmse_phi, label='physical model')\n",
    "plt.plot(dt*np.arange(Nt_forecast), rmse_hyb, label='hybrid model')\n",
    "plt.plot(dt*np.arange(Nt_forecast), mod_var*np.ones(Nt_forecast),':k', label='True model varaibility')\n",
    "plt.legend()\n",
    "plt.xlabel('Time (MTU)')\n",
    "plt.ylabel('RMSE')\n",
    "plt.savefig(f'Figures/rmse_{name}')"
   ]
  },
  {
   "cell_type": "markdown",
   "id": "f9a36120-a270-40af-8785-7cf1078d0326",
   "metadata": {
    "id": "f9a36120-a270-40af-8785-7cf1078d0326"
   },
   "source": [
    "This RMSE has been averaged over $m$ forecasts, each one starting from a different initial condition.\n",
    "\n",
    "At time 0, as the initial condition is extracted from the true simulation, the RMSE is zero.\n",
    "As the lead time increases, the RMSE also increases, but it can be noticed that the error of the hybrid model is inferior to the error of the physical model. It shows that the hybrid model has a better forecast skill than the physical model, and it is due to the fact that **the neural network has efficiently corrected the model error.**"
   ]
  }
 ],
 "metadata": {
  "accelerator": "GPU",
  "colab": {
   "provenance": []
  },
  "gpuClass": "standard",
  "kernelspec": {
   "display_name": "Python 3 (ipykernel)",
   "language": "python",
   "name": "python3"
  },
  "language_info": {
   "codemirror_mode": {
    "name": "ipython",
    "version": 3
   },
   "file_extension": ".py",
   "mimetype": "text/x-python",
   "name": "python",
   "nbconvert_exporter": "python",
   "pygments_lexer": "ipython3",
   "version": "3.10.8"
  },
  "widgets": {
   "application/vnd.jupyter.widget-state+json": {
    "034e6963c9df455ca58d7ec5be490bdd": {
     "model_module": "@jupyter-widgets/controls",
     "model_module_version": "1.5.0",
     "model_name": "HTMLModel",
     "state": {
      "_dom_classes": [],
      "_model_module": "@jupyter-widgets/controls",
      "_model_module_version": "1.5.0",
      "_model_name": "HTMLModel",
      "_view_count": null,
      "_view_module": "@jupyter-widgets/controls",
      "_view_module_version": "1.5.0",
      "_view_name": "HTMLView",
      "description": "",
      "description_tooltip": null,
      "layout": "IPY_MODEL_ca324ac844524059b7f9ae11923d16c1",
      "placeholder": "​",
      "style": "IPY_MODEL_dc57899a6ec94fe79b066ccb16cd2c30",
      "value": " 399/399 [00:00&lt;00:00, 1093.85it/s]"
     }
    },
    "08dc57db1af44a2ba2a95ed9e559fc59": {
     "model_module": "@jupyter-widgets/controls",
     "model_module_version": "1.5.0",
     "model_name": "HTMLModel",
     "state": {
      "_dom_classes": [],
      "_model_module": "@jupyter-widgets/controls",
      "_model_module_version": "1.5.0",
      "_model_name": "HTMLModel",
      "_view_count": null,
      "_view_module": "@jupyter-widgets/controls",
      "_view_module_version": "1.5.0",
      "_view_name": "HTMLView",
      "description": "",
      "description_tooltip": null,
      "layout": "IPY_MODEL_39e14303dfc044a8a5336c8176a9ede1",
      "placeholder": "​",
      "style": "IPY_MODEL_4a60310d71a14ab681c5ce01e9f22a7b",
      "value": " 19999/19999 [00:07&lt;00:00, 1364.82it/s]"
     }
    },
    "2907b6cc96d74f838f1bfab302a47d5a": {
     "model_module": "@jupyter-widgets/controls",
     "model_module_version": "1.5.0",
     "model_name": "FloatProgressModel",
     "state": {
      "_dom_classes": [],
      "_model_module": "@jupyter-widgets/controls",
      "_model_module_version": "1.5.0",
      "_model_name": "FloatProgressModel",
      "_view_count": null,
      "_view_module": "@jupyter-widgets/controls",
      "_view_module_version": "1.5.0",
      "_view_name": "ProgressView",
      "bar_style": "success",
      "description": "",
      "description_tooltip": null,
      "layout": "IPY_MODEL_ef33915abe5647a2b00a0590f2bd366a",
      "max": 19999,
      "min": 0,
      "orientation": "horizontal",
      "style": "IPY_MODEL_d6d19bfa3e1e428b9e5ebc9dac384917",
      "value": 19999
     }
    },
    "39e14303dfc044a8a5336c8176a9ede1": {
     "model_module": "@jupyter-widgets/base",
     "model_module_version": "1.2.0",
     "model_name": "LayoutModel",
     "state": {
      "_model_module": "@jupyter-widgets/base",
      "_model_module_version": "1.2.0",
      "_model_name": "LayoutModel",
      "_view_count": null,
      "_view_module": "@jupyter-widgets/base",
      "_view_module_version": "1.2.0",
      "_view_name": "LayoutView",
      "align_content": null,
      "align_items": null,
      "align_self": null,
      "border": null,
      "bottom": null,
      "display": null,
      "flex": null,
      "flex_flow": null,
      "grid_area": null,
      "grid_auto_columns": null,
      "grid_auto_flow": null,
      "grid_auto_rows": null,
      "grid_column": null,
      "grid_gap": null,
      "grid_row": null,
      "grid_template_areas": null,
      "grid_template_columns": null,
      "grid_template_rows": null,
      "height": null,
      "justify_content": null,
      "justify_items": null,
      "left": null,
      "margin": null,
      "max_height": null,
      "max_width": null,
      "min_height": null,
      "min_width": null,
      "object_fit": null,
      "object_position": null,
      "order": null,
      "overflow": null,
      "overflow_x": null,
      "overflow_y": null,
      "padding": null,
      "right": null,
      "top": null,
      "visibility": null,
      "width": null
     }
    },
    "48bbc8466a7d4611bd6cc970cdc03211": {
     "model_module": "@jupyter-widgets/base",
     "model_module_version": "1.2.0",
     "model_name": "LayoutModel",
     "state": {
      "_model_module": "@jupyter-widgets/base",
      "_model_module_version": "1.2.0",
      "_model_name": "LayoutModel",
      "_view_count": null,
      "_view_module": "@jupyter-widgets/base",
      "_view_module_version": "1.2.0",
      "_view_name": "LayoutView",
      "align_content": null,
      "align_items": null,
      "align_self": null,
      "border": null,
      "bottom": null,
      "display": null,
      "flex": null,
      "flex_flow": null,
      "grid_area": null,
      "grid_auto_columns": null,
      "grid_auto_flow": null,
      "grid_auto_rows": null,
      "grid_column": null,
      "grid_gap": null,
      "grid_row": null,
      "grid_template_areas": null,
      "grid_template_columns": null,
      "grid_template_rows": null,
      "height": null,
      "justify_content": null,
      "justify_items": null,
      "left": null,
      "margin": null,
      "max_height": null,
      "max_width": null,
      "min_height": null,
      "min_width": null,
      "object_fit": null,
      "object_position": null,
      "order": null,
      "overflow": null,
      "overflow_x": null,
      "overflow_y": null,
      "padding": null,
      "right": null,
      "top": null,
      "visibility": null,
      "width": null
     }
    },
    "4a60310d71a14ab681c5ce01e9f22a7b": {
     "model_module": "@jupyter-widgets/controls",
     "model_module_version": "1.5.0",
     "model_name": "DescriptionStyleModel",
     "state": {
      "_model_module": "@jupyter-widgets/controls",
      "_model_module_version": "1.5.0",
      "_model_name": "DescriptionStyleModel",
      "_view_count": null,
      "_view_module": "@jupyter-widgets/base",
      "_view_module_version": "1.2.0",
      "_view_name": "StyleView",
      "description_width": ""
     }
    },
    "6318dcb8a16b47ec9b5e053146656026": {
     "model_module": "@jupyter-widgets/controls",
     "model_module_version": "1.5.0",
     "model_name": "FloatProgressModel",
     "state": {
      "_dom_classes": [],
      "_model_module": "@jupyter-widgets/controls",
      "_model_module_version": "1.5.0",
      "_model_name": "FloatProgressModel",
      "_view_count": null,
      "_view_module": "@jupyter-widgets/controls",
      "_view_module_version": "1.5.0",
      "_view_name": "ProgressView",
      "bar_style": "success",
      "description": "",
      "description_tooltip": null,
      "layout": "IPY_MODEL_87cdc121effe44dba538e7ea8ac5cad7",
      "max": 399,
      "min": 0,
      "orientation": "horizontal",
      "style": "IPY_MODEL_cbd442d872cf40169ea9040661e6d61b",
      "value": 399
     }
    },
    "6afa11af6320499ab89043c82e6ff508": {
     "model_module": "@jupyter-widgets/controls",
     "model_module_version": "1.5.0",
     "model_name": "HBoxModel",
     "state": {
      "_dom_classes": [],
      "_model_module": "@jupyter-widgets/controls",
      "_model_module_version": "1.5.0",
      "_model_name": "HBoxModel",
      "_view_count": null,
      "_view_module": "@jupyter-widgets/controls",
      "_view_module_version": "1.5.0",
      "_view_name": "HBoxView",
      "box_style": "",
      "children": [
       "IPY_MODEL_d21a270e6d4e49dfa6b320e4a4e7394c",
       "IPY_MODEL_b4044804487a4132bbacfb09ea292f81",
       "IPY_MODEL_034e6963c9df455ca58d7ec5be490bdd"
      ],
      "layout": "IPY_MODEL_71d0a5a9668d4ebcbe44cc4513fe67d7"
     }
    },
    "71d0a5a9668d4ebcbe44cc4513fe67d7": {
     "model_module": "@jupyter-widgets/base",
     "model_module_version": "1.2.0",
     "model_name": "LayoutModel",
     "state": {
      "_model_module": "@jupyter-widgets/base",
      "_model_module_version": "1.2.0",
      "_model_name": "LayoutModel",
      "_view_count": null,
      "_view_module": "@jupyter-widgets/base",
      "_view_module_version": "1.2.0",
      "_view_name": "LayoutView",
      "align_content": null,
      "align_items": null,
      "align_self": null,
      "border": null,
      "bottom": null,
      "display": null,
      "flex": null,
      "flex_flow": null,
      "grid_area": null,
      "grid_auto_columns": null,
      "grid_auto_flow": null,
      "grid_auto_rows": null,
      "grid_column": null,
      "grid_gap": null,
      "grid_row": null,
      "grid_template_areas": null,
      "grid_template_columns": null,
      "grid_template_rows": null,
      "height": null,
      "justify_content": null,
      "justify_items": null,
      "left": null,
      "margin": null,
      "max_height": null,
      "max_width": null,
      "min_height": null,
      "min_width": null,
      "object_fit": null,
      "object_position": null,
      "order": null,
      "overflow": null,
      "overflow_x": null,
      "overflow_y": null,
      "padding": null,
      "right": null,
      "top": null,
      "visibility": null,
      "width": null
     }
    },
    "8047a7bd7b284e4784c5eac5e41aae20": {
     "model_module": "@jupyter-widgets/controls",
     "model_module_version": "1.5.0",
     "model_name": "HBoxModel",
     "state": {
      "_dom_classes": [],
      "_model_module": "@jupyter-widgets/controls",
      "_model_module_version": "1.5.0",
      "_model_name": "HBoxModel",
      "_view_count": null,
      "_view_module": "@jupyter-widgets/controls",
      "_view_module_version": "1.5.0",
      "_view_name": "HBoxView",
      "box_style": "",
      "children": [
       "IPY_MODEL_ede1655ee57940e38364f26d1cf9925d",
       "IPY_MODEL_2907b6cc96d74f838f1bfab302a47d5a",
       "IPY_MODEL_08dc57db1af44a2ba2a95ed9e559fc59"
      ],
      "layout": "IPY_MODEL_d6c34f914f06497b8a2bba069d018ecb"
     }
    },
    "87cdc121effe44dba538e7ea8ac5cad7": {
     "model_module": "@jupyter-widgets/base",
     "model_module_version": "1.2.0",
     "model_name": "LayoutModel",
     "state": {
      "_model_module": "@jupyter-widgets/base",
      "_model_module_version": "1.2.0",
      "_model_name": "LayoutModel",
      "_view_count": null,
      "_view_module": "@jupyter-widgets/base",
      "_view_module_version": "1.2.0",
      "_view_name": "LayoutView",
      "align_content": null,
      "align_items": null,
      "align_self": null,
      "border": null,
      "bottom": null,
      "display": null,
      "flex": null,
      "flex_flow": null,
      "grid_area": null,
      "grid_auto_columns": null,
      "grid_auto_flow": null,
      "grid_auto_rows": null,
      "grid_column": null,
      "grid_gap": null,
      "grid_row": null,
      "grid_template_areas": null,
      "grid_template_columns": null,
      "grid_template_rows": null,
      "height": null,
      "justify_content": null,
      "justify_items": null,
      "left": null,
      "margin": null,
      "max_height": null,
      "max_width": null,
      "min_height": null,
      "min_width": null,
      "object_fit": null,
      "object_position": null,
      "order": null,
      "overflow": null,
      "overflow_x": null,
      "overflow_y": null,
      "padding": null,
      "right": null,
      "top": null,
      "visibility": null,
      "width": null
     }
    },
    "886ef8908f5a45b7a742485eb9ad96e8": {
     "model_module": "@jupyter-widgets/controls",
     "model_module_version": "1.5.0",
     "model_name": "DescriptionStyleModel",
     "state": {
      "_model_module": "@jupyter-widgets/controls",
      "_model_module_version": "1.5.0",
      "_model_name": "DescriptionStyleModel",
      "_view_count": null,
      "_view_module": "@jupyter-widgets/base",
      "_view_module_version": "1.2.0",
      "_view_name": "StyleView",
      "description_width": ""
     }
    },
    "94d18374f1fb4a0589b51a5329d18c8c": {
     "model_module": "@jupyter-widgets/controls",
     "model_module_version": "1.5.0",
     "model_name": "ProgressStyleModel",
     "state": {
      "_model_module": "@jupyter-widgets/controls",
      "_model_module_version": "1.5.0",
      "_model_name": "ProgressStyleModel",
      "_view_count": null,
      "_view_module": "@jupyter-widgets/base",
      "_view_module_version": "1.2.0",
      "_view_name": "StyleView",
      "bar_color": null,
      "description_width": ""
     }
    },
    "95d4ad7b9f624c75ab3325453976c004": {
     "model_module": "@jupyter-widgets/controls",
     "model_module_version": "1.5.0",
     "model_name": "DescriptionStyleModel",
     "state": {
      "_model_module": "@jupyter-widgets/controls",
      "_model_module_version": "1.5.0",
      "_model_name": "DescriptionStyleModel",
      "_view_count": null,
      "_view_module": "@jupyter-widgets/base",
      "_view_module_version": "1.2.0",
      "_view_name": "StyleView",
      "description_width": ""
     }
    },
    "9a7e4a4900d2477a8782e47a7467835c": {
     "model_module": "@jupyter-widgets/controls",
     "model_module_version": "1.5.0",
     "model_name": "HBoxModel",
     "state": {
      "_dom_classes": [],
      "_model_module": "@jupyter-widgets/controls",
      "_model_module_version": "1.5.0",
      "_model_name": "HBoxModel",
      "_view_count": null,
      "_view_module": "@jupyter-widgets/controls",
      "_view_module_version": "1.5.0",
      "_view_name": "HBoxView",
      "box_style": "",
      "children": [
       "IPY_MODEL_ad3e8d97aa6e416a96361a58cb6ffa0c",
       "IPY_MODEL_6318dcb8a16b47ec9b5e053146656026",
       "IPY_MODEL_df738a46e6d54e848270bafbca945dbc"
      ],
      "layout": "IPY_MODEL_48bbc8466a7d4611bd6cc970cdc03211"
     }
    },
    "a1d1491c2f58473e81796cac1b866221": {
     "model_module": "@jupyter-widgets/base",
     "model_module_version": "1.2.0",
     "model_name": "LayoutModel",
     "state": {
      "_model_module": "@jupyter-widgets/base",
      "_model_module_version": "1.2.0",
      "_model_name": "LayoutModel",
      "_view_count": null,
      "_view_module": "@jupyter-widgets/base",
      "_view_module_version": "1.2.0",
      "_view_name": "LayoutView",
      "align_content": null,
      "align_items": null,
      "align_self": null,
      "border": null,
      "bottom": null,
      "display": null,
      "flex": null,
      "flex_flow": null,
      "grid_area": null,
      "grid_auto_columns": null,
      "grid_auto_flow": null,
      "grid_auto_rows": null,
      "grid_column": null,
      "grid_gap": null,
      "grid_row": null,
      "grid_template_areas": null,
      "grid_template_columns": null,
      "grid_template_rows": null,
      "height": null,
      "justify_content": null,
      "justify_items": null,
      "left": null,
      "margin": null,
      "max_height": null,
      "max_width": null,
      "min_height": null,
      "min_width": null,
      "object_fit": null,
      "object_position": null,
      "order": null,
      "overflow": null,
      "overflow_x": null,
      "overflow_y": null,
      "padding": null,
      "right": null,
      "top": null,
      "visibility": null,
      "width": null
     }
    },
    "a59c65da907c4a308e23831d930ab545": {
     "model_module": "@jupyter-widgets/base",
     "model_module_version": "1.2.0",
     "model_name": "LayoutModel",
     "state": {
      "_model_module": "@jupyter-widgets/base",
      "_model_module_version": "1.2.0",
      "_model_name": "LayoutModel",
      "_view_count": null,
      "_view_module": "@jupyter-widgets/base",
      "_view_module_version": "1.2.0",
      "_view_name": "LayoutView",
      "align_content": null,
      "align_items": null,
      "align_self": null,
      "border": null,
      "bottom": null,
      "display": null,
      "flex": null,
      "flex_flow": null,
      "grid_area": null,
      "grid_auto_columns": null,
      "grid_auto_flow": null,
      "grid_auto_rows": null,
      "grid_column": null,
      "grid_gap": null,
      "grid_row": null,
      "grid_template_areas": null,
      "grid_template_columns": null,
      "grid_template_rows": null,
      "height": null,
      "justify_content": null,
      "justify_items": null,
      "left": null,
      "margin": null,
      "max_height": null,
      "max_width": null,
      "min_height": null,
      "min_width": null,
      "object_fit": null,
      "object_position": null,
      "order": null,
      "overflow": null,
      "overflow_x": null,
      "overflow_y": null,
      "padding": null,
      "right": null,
      "top": null,
      "visibility": null,
      "width": null
     }
    },
    "ad3e8d97aa6e416a96361a58cb6ffa0c": {
     "model_module": "@jupyter-widgets/controls",
     "model_module_version": "1.5.0",
     "model_name": "HTMLModel",
     "state": {
      "_dom_classes": [],
      "_model_module": "@jupyter-widgets/controls",
      "_model_module_version": "1.5.0",
      "_model_name": "HTMLModel",
      "_view_count": null,
      "_view_module": "@jupyter-widgets/controls",
      "_view_module_version": "1.5.0",
      "_view_name": "HTMLView",
      "description": "",
      "description_tooltip": null,
      "layout": "IPY_MODEL_d9422c1aaa554f3c932ce40188fcd92c",
      "placeholder": "​",
      "style": "IPY_MODEL_95d4ad7b9f624c75ab3325453976c004",
      "value": "hybrid model integration: 100%"
     }
    },
    "b4044804487a4132bbacfb09ea292f81": {
     "model_module": "@jupyter-widgets/controls",
     "model_module_version": "1.5.0",
     "model_name": "FloatProgressModel",
     "state": {
      "_dom_classes": [],
      "_model_module": "@jupyter-widgets/controls",
      "_model_module_version": "1.5.0",
      "_model_name": "FloatProgressModel",
      "_view_count": null,
      "_view_module": "@jupyter-widgets/controls",
      "_view_module_version": "1.5.0",
      "_view_name": "ProgressView",
      "bar_style": "success",
      "description": "",
      "description_tooltip": null,
      "layout": "IPY_MODEL_a1d1491c2f58473e81796cac1b866221",
      "max": 399,
      "min": 0,
      "orientation": "horizontal",
      "style": "IPY_MODEL_94d18374f1fb4a0589b51a5329d18c8c",
      "value": 399
     }
    },
    "c06ce75c84d544c3ae539949b455faeb": {
     "model_module": "@jupyter-widgets/base",
     "model_module_version": "1.2.0",
     "model_name": "LayoutModel",
     "state": {
      "_model_module": "@jupyter-widgets/base",
      "_model_module_version": "1.2.0",
      "_model_name": "LayoutModel",
      "_view_count": null,
      "_view_module": "@jupyter-widgets/base",
      "_view_module_version": "1.2.0",
      "_view_name": "LayoutView",
      "align_content": null,
      "align_items": null,
      "align_self": null,
      "border": null,
      "bottom": null,
      "display": null,
      "flex": null,
      "flex_flow": null,
      "grid_area": null,
      "grid_auto_columns": null,
      "grid_auto_flow": null,
      "grid_auto_rows": null,
      "grid_column": null,
      "grid_gap": null,
      "grid_row": null,
      "grid_template_areas": null,
      "grid_template_columns": null,
      "grid_template_rows": null,
      "height": null,
      "justify_content": null,
      "justify_items": null,
      "left": null,
      "margin": null,
      "max_height": null,
      "max_width": null,
      "min_height": null,
      "min_width": null,
      "object_fit": null,
      "object_position": null,
      "order": null,
      "overflow": null,
      "overflow_x": null,
      "overflow_y": null,
      "padding": null,
      "right": null,
      "top": null,
      "visibility": null,
      "width": null
     }
    },
    "ca324ac844524059b7f9ae11923d16c1": {
     "model_module": "@jupyter-widgets/base",
     "model_module_version": "1.2.0",
     "model_name": "LayoutModel",
     "state": {
      "_model_module": "@jupyter-widgets/base",
      "_model_module_version": "1.2.0",
      "_model_name": "LayoutModel",
      "_view_count": null,
      "_view_module": "@jupyter-widgets/base",
      "_view_module_version": "1.2.0",
      "_view_name": "LayoutView",
      "align_content": null,
      "align_items": null,
      "align_self": null,
      "border": null,
      "bottom": null,
      "display": null,
      "flex": null,
      "flex_flow": null,
      "grid_area": null,
      "grid_auto_columns": null,
      "grid_auto_flow": null,
      "grid_auto_rows": null,
      "grid_column": null,
      "grid_gap": null,
      "grid_row": null,
      "grid_template_areas": null,
      "grid_template_columns": null,
      "grid_template_rows": null,
      "height": null,
      "justify_content": null,
      "justify_items": null,
      "left": null,
      "margin": null,
      "max_height": null,
      "max_width": null,
      "min_height": null,
      "min_width": null,
      "object_fit": null,
      "object_position": null,
      "order": null,
      "overflow": null,
      "overflow_x": null,
      "overflow_y": null,
      "padding": null,
      "right": null,
      "top": null,
      "visibility": null,
      "width": null
     }
    },
    "cbd442d872cf40169ea9040661e6d61b": {
     "model_module": "@jupyter-widgets/controls",
     "model_module_version": "1.5.0",
     "model_name": "ProgressStyleModel",
     "state": {
      "_model_module": "@jupyter-widgets/controls",
      "_model_module_version": "1.5.0",
      "_model_name": "ProgressStyleModel",
      "_view_count": null,
      "_view_module": "@jupyter-widgets/base",
      "_view_module_version": "1.2.0",
      "_view_name": "StyleView",
      "bar_color": null,
      "description_width": ""
     }
    },
    "cf36448de4a04d6ea8a39be2e752ee74": {
     "model_module": "@jupyter-widgets/controls",
     "model_module_version": "1.5.0",
     "model_name": "DescriptionStyleModel",
     "state": {
      "_model_module": "@jupyter-widgets/controls",
      "_model_module_version": "1.5.0",
      "_model_name": "DescriptionStyleModel",
      "_view_count": null,
      "_view_module": "@jupyter-widgets/base",
      "_view_module_version": "1.2.0",
      "_view_name": "StyleView",
      "description_width": ""
     }
    },
    "d21a270e6d4e49dfa6b320e4a4e7394c": {
     "model_module": "@jupyter-widgets/controls",
     "model_module_version": "1.5.0",
     "model_name": "HTMLModel",
     "state": {
      "_dom_classes": [],
      "_model_module": "@jupyter-widgets/controls",
      "_model_module_version": "1.5.0",
      "_model_name": "HTMLModel",
      "_view_count": null,
      "_view_module": "@jupyter-widgets/controls",
      "_view_module_version": "1.5.0",
      "_view_name": "HTMLView",
      "description": "",
      "description_tooltip": null,
      "layout": "IPY_MODEL_c06ce75c84d544c3ae539949b455faeb",
      "placeholder": "​",
      "style": "IPY_MODEL_886ef8908f5a45b7a742485eb9ad96e8",
      "value": "physical model integration: 100%"
     }
    },
    "d6c34f914f06497b8a2bba069d018ecb": {
     "model_module": "@jupyter-widgets/base",
     "model_module_version": "1.2.0",
     "model_name": "LayoutModel",
     "state": {
      "_model_module": "@jupyter-widgets/base",
      "_model_module_version": "1.2.0",
      "_model_name": "LayoutModel",
      "_view_count": null,
      "_view_module": "@jupyter-widgets/base",
      "_view_module_version": "1.2.0",
      "_view_name": "LayoutView",
      "align_content": null,
      "align_items": null,
      "align_self": null,
      "border": null,
      "bottom": null,
      "display": null,
      "flex": null,
      "flex_flow": null,
      "grid_area": null,
      "grid_auto_columns": null,
      "grid_auto_flow": null,
      "grid_auto_rows": null,
      "grid_column": null,
      "grid_gap": null,
      "grid_row": null,
      "grid_template_areas": null,
      "grid_template_columns": null,
      "grid_template_rows": null,
      "height": null,
      "justify_content": null,
      "justify_items": null,
      "left": null,
      "margin": null,
      "max_height": null,
      "max_width": null,
      "min_height": null,
      "min_width": null,
      "object_fit": null,
      "object_position": null,
      "order": null,
      "overflow": null,
      "overflow_x": null,
      "overflow_y": null,
      "padding": null,
      "right": null,
      "top": null,
      "visibility": null,
      "width": null
     }
    },
    "d6d19bfa3e1e428b9e5ebc9dac384917": {
     "model_module": "@jupyter-widgets/controls",
     "model_module_version": "1.5.0",
     "model_name": "ProgressStyleModel",
     "state": {
      "_model_module": "@jupyter-widgets/controls",
      "_model_module_version": "1.5.0",
      "_model_name": "ProgressStyleModel",
      "_view_count": null,
      "_view_module": "@jupyter-widgets/base",
      "_view_module_version": "1.2.0",
      "_view_name": "StyleView",
      "bar_color": null,
      "description_width": ""
     }
    },
    "d9422c1aaa554f3c932ce40188fcd92c": {
     "model_module": "@jupyter-widgets/base",
     "model_module_version": "1.2.0",
     "model_name": "LayoutModel",
     "state": {
      "_model_module": "@jupyter-widgets/base",
      "_model_module_version": "1.2.0",
      "_model_name": "LayoutModel",
      "_view_count": null,
      "_view_module": "@jupyter-widgets/base",
      "_view_module_version": "1.2.0",
      "_view_name": "LayoutView",
      "align_content": null,
      "align_items": null,
      "align_self": null,
      "border": null,
      "bottom": null,
      "display": null,
      "flex": null,
      "flex_flow": null,
      "grid_area": null,
      "grid_auto_columns": null,
      "grid_auto_flow": null,
      "grid_auto_rows": null,
      "grid_column": null,
      "grid_gap": null,
      "grid_row": null,
      "grid_template_areas": null,
      "grid_template_columns": null,
      "grid_template_rows": null,
      "height": null,
      "justify_content": null,
      "justify_items": null,
      "left": null,
      "margin": null,
      "max_height": null,
      "max_width": null,
      "min_height": null,
      "min_width": null,
      "object_fit": null,
      "object_position": null,
      "order": null,
      "overflow": null,
      "overflow_x": null,
      "overflow_y": null,
      "padding": null,
      "right": null,
      "top": null,
      "visibility": null,
      "width": null
     }
    },
    "dc57899a6ec94fe79b066ccb16cd2c30": {
     "model_module": "@jupyter-widgets/controls",
     "model_module_version": "1.5.0",
     "model_name": "DescriptionStyleModel",
     "state": {
      "_model_module": "@jupyter-widgets/controls",
      "_model_module_version": "1.5.0",
      "_model_name": "DescriptionStyleModel",
      "_view_count": null,
      "_view_module": "@jupyter-widgets/base",
      "_view_module_version": "1.2.0",
      "_view_name": "StyleView",
      "description_width": ""
     }
    },
    "df738a46e6d54e848270bafbca945dbc": {
     "model_module": "@jupyter-widgets/controls",
     "model_module_version": "1.5.0",
     "model_name": "HTMLModel",
     "state": {
      "_dom_classes": [],
      "_model_module": "@jupyter-widgets/controls",
      "_model_module_version": "1.5.0",
      "_model_name": "HTMLModel",
      "_view_count": null,
      "_view_module": "@jupyter-widgets/controls",
      "_view_module_version": "1.5.0",
      "_view_name": "HTMLView",
      "description": "",
      "description_tooltip": null,
      "layout": "IPY_MODEL_a59c65da907c4a308e23831d930ab545",
      "placeholder": "​",
      "style": "IPY_MODEL_cf36448de4a04d6ea8a39be2e752ee74",
      "value": " 399/399 [00:05&lt;00:00, 158.99it/s]"
     }
    },
    "eccde61dbeee47b894792047db572667": {
     "model_module": "@jupyter-widgets/controls",
     "model_module_version": "1.5.0",
     "model_name": "DescriptionStyleModel",
     "state": {
      "_model_module": "@jupyter-widgets/controls",
      "_model_module_version": "1.5.0",
      "_model_name": "DescriptionStyleModel",
      "_view_count": null,
      "_view_module": "@jupyter-widgets/base",
      "_view_module_version": "1.2.0",
      "_view_name": "StyleView",
      "description_width": ""
     }
    },
    "ede1655ee57940e38364f26d1cf9925d": {
     "model_module": "@jupyter-widgets/controls",
     "model_module_version": "1.5.0",
     "model_name": "HTMLModel",
     "state": {
      "_dom_classes": [],
      "_model_module": "@jupyter-widgets/controls",
      "_model_module_version": "1.5.0",
      "_model_name": "HTMLModel",
      "_view_count": null,
      "_view_module": "@jupyter-widgets/controls",
      "_view_module_version": "1.5.0",
      "_view_name": "HTMLView",
      "description": "",
      "description_tooltip": null,
      "layout": "IPY_MODEL_fbb4f62974754e4e82a7c8b443cca959",
      "placeholder": "​",
      "style": "IPY_MODEL_eccde61dbeee47b894792047db572667",
      "value": "test model integration: 100%"
     }
    },
    "ef33915abe5647a2b00a0590f2bd366a": {
     "model_module": "@jupyter-widgets/base",
     "model_module_version": "1.2.0",
     "model_name": "LayoutModel",
     "state": {
      "_model_module": "@jupyter-widgets/base",
      "_model_module_version": "1.2.0",
      "_model_name": "LayoutModel",
      "_view_count": null,
      "_view_module": "@jupyter-widgets/base",
      "_view_module_version": "1.2.0",
      "_view_name": "LayoutView",
      "align_content": null,
      "align_items": null,
      "align_self": null,
      "border": null,
      "bottom": null,
      "display": null,
      "flex": null,
      "flex_flow": null,
      "grid_area": null,
      "grid_auto_columns": null,
      "grid_auto_flow": null,
      "grid_auto_rows": null,
      "grid_column": null,
      "grid_gap": null,
      "grid_row": null,
      "grid_template_areas": null,
      "grid_template_columns": null,
      "grid_template_rows": null,
      "height": null,
      "justify_content": null,
      "justify_items": null,
      "left": null,
      "margin": null,
      "max_height": null,
      "max_width": null,
      "min_height": null,
      "min_width": null,
      "object_fit": null,
      "object_position": null,
      "order": null,
      "overflow": null,
      "overflow_x": null,
      "overflow_y": null,
      "padding": null,
      "right": null,
      "top": null,
      "visibility": null,
      "width": null
     }
    },
    "fbb4f62974754e4e82a7c8b443cca959": {
     "model_module": "@jupyter-widgets/base",
     "model_module_version": "1.2.0",
     "model_name": "LayoutModel",
     "state": {
      "_model_module": "@jupyter-widgets/base",
      "_model_module_version": "1.2.0",
      "_model_name": "LayoutModel",
      "_view_count": null,
      "_view_module": "@jupyter-widgets/base",
      "_view_module_version": "1.2.0",
      "_view_name": "LayoutView",
      "align_content": null,
      "align_items": null,
      "align_self": null,
      "border": null,
      "bottom": null,
      "display": null,
      "flex": null,
      "flex_flow": null,
      "grid_area": null,
      "grid_auto_columns": null,
      "grid_auto_flow": null,
      "grid_auto_rows": null,
      "grid_column": null,
      "grid_gap": null,
      "grid_row": null,
      "grid_template_areas": null,
      "grid_template_columns": null,
      "grid_template_rows": null,
      "height": null,
      "justify_content": null,
      "justify_items": null,
      "left": null,
      "margin": null,
      "max_height": null,
      "max_width": null,
      "min_height": null,
      "min_width": null,
      "object_fit": null,
      "object_position": null,
      "order": null,
      "overflow": null,
      "overflow_x": null,
      "overflow_y": null,
      "padding": null,
      "right": null,
      "top": null,
      "visibility": null,
      "width": null
     }
    }
   }
  }
 },
 "nbformat": 4,
 "nbformat_minor": 5
}
